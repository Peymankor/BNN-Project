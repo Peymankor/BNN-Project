{
  "nbformat": 4,
  "nbformat_minor": 0,
  "metadata": {
    "colab": {
      "name": "BayesBackdrop.ipynb",
      "provenance": [],
      "collapsed_sections": []
    },
    "kernelspec": {
      "name": "python3",
      "display_name": "Python 3"
    },
    "accelerator": "GPU"
  },
  "cells": [
    {
      "cell_type": "code",
      "metadata": {
        "id": "b5eEVN1u6imv",
        "colab_type": "code",
        "colab": {}
      },
      "source": [
        "%matplotlib inline\n",
        "#from __future__ import print_function, division\n",
        "import numpy as np\n",
        "import matplotlib.pyplot as plt\n",
        "import seaborn as sns\n",
        "\n",
        "sns.set()\n",
        "\n",
        "import torch\n",
        "from torch import nn, optim\n",
        "from torch.autograd import Variable\n",
        "from torch.optim import Optimizer\n",
        "\n",
        "\n",
        "import collections\n",
        "import h5py, sys\n",
        "import gzip\n",
        "import os\n",
        "import math\n",
        "\n",
        "\n",
        "try:\n",
        "    import cPickle as pickle\n",
        "except:\n",
        "    import pickle"
      ],
      "execution_count": 0,
      "outputs": []
    },
    {
      "cell_type": "markdown",
      "metadata": {
        "id": "HIofJVvx6tPb",
        "colab_type": "text"
      },
      "source": [
        "Some Utility Function"
      ]
    },
    {
      "cell_type": "code",
      "metadata": {
        "id": "bLTHRJAW6rmz",
        "colab_type": "code",
        "colab": {}
      },
      "source": [
        "def mkdir(paths):\n",
        "    if not isinstance(paths, (list, tuple)):\n",
        "        paths = [paths]\n",
        "    for path in paths:\n",
        "        if not os.path.isdir(path):\n",
        "            os.makedirs(path)\n",
        "\n",
        "#from __future__ import print_function\n",
        "import torch\n",
        "from torch import nn, optim\n",
        "from torch.autograd import Variable\n",
        "import numpy as np\n",
        "import matplotlib.pyplot as plt\n",
        "import sys\n",
        "\n",
        "suffixes = ['B', 'KB', 'MB', 'GB', 'TB', 'PB']\n",
        "def humansize(nbytes):\n",
        "    i = 0\n",
        "    while nbytes >= 1024 and i < len(suffixes)-1:\n",
        "        nbytes /= 1024.\n",
        "        i += 1\n",
        "    f = ('%.2f' % nbytes)\n",
        "    return '%s%s' % (f, suffixes[i])\n",
        "\n",
        "\n",
        "def get_num_batches(nb_samples, batch_size, roundup=True):\n",
        "    if roundup:\n",
        "        return ((nb_samples + (-nb_samples % batch_size)) / batch_size)  # roundup division\n",
        "    else:\n",
        "        return nb_samples / batch_size\n",
        "\n",
        "def generate_ind_batch(nb_samples, batch_size, random=True, roundup=True):\n",
        "    if random:\n",
        "        ind = np.random.permutation(nb_samples)\n",
        "    else:\n",
        "        ind = range(int(nb_samples))\n",
        "    for i in range(int(get_num_batches(nb_samples, batch_size, roundup))):\n",
        "        yield ind[i * batch_size: (i + 1) * batch_size]\n",
        "\n",
        "def to_variable(var=(), cuda=True, volatile=False):\n",
        "    out = []\n",
        "    for v in var:\n",
        "        if isinstance(v, np.ndarray):\n",
        "            v = torch.from_numpy(v).type(torch.FloatTensor)\n",
        "\n",
        "        if not v.is_cuda and cuda:\n",
        "            v = v.cuda()\n",
        "\n",
        "        if not isinstance(v, Variable):\n",
        "            v = Variable(v, volatile=volatile)\n",
        "\n",
        "        out.append(v)\n",
        "    return out\n",
        "  \n",
        "def cprint(color, text, **kwargs):\n",
        "    if color[0] == '*':\n",
        "        pre_code = '1;'\n",
        "        color = color[1:]\n",
        "    else:\n",
        "        pre_code = ''\n",
        "    code = {\n",
        "        'a': '30',\n",
        "        'r': '31',\n",
        "        'g': '32',\n",
        "        'y': '33',\n",
        "        'b': '34',\n",
        "        'p': '35',\n",
        "        'c': '36',\n",
        "        'w': '37'\n",
        "    }\n",
        "    print(\"\\x1b[%s%sm%s\\x1b[0m\" % (pre_code, code[color], text), **kwargs)\n",
        "    sys.stdout.flush()\n",
        "\n",
        "def shuffle_in_unison_scary(a, b):\n",
        "    rng_state = np.random.get_state()\n",
        "    np.random.shuffle(a)\n",
        "    np.random.set_state(rng_state)\n",
        "    np.random.shuffle(b)\n",
        "    \n",
        "    \n",
        "import torch.utils.data as data\n",
        "from PIL import Image\n",
        "import numpy as np\n",
        "import h5py"
      ],
      "execution_count": 0,
      "outputs": []
    },
    {
      "cell_type": "code",
      "metadata": {
        "id": "OF-qn10B62bt",
        "colab_type": "code",
        "colab": {}
      },
      "source": [
        "class Datafeed(data.Dataset):\n",
        "\n",
        "    def __init__(self, x_train, y_train, transform=None):\n",
        "        self.x_train = x_train\n",
        "        self.y_train = y_train\n",
        "        self.transform = transform\n",
        "\n",
        "    def __getitem__(self, index):\n",
        "        img = self.x_train[index]\n",
        "        if self.transform is not None:\n",
        "            img = self.transform(img)\n",
        "        return img, self.y_train[index]\n",
        "\n",
        "    def __len__(self):\n",
        "        return len(self.x_train)\n",
        "\n",
        "class DatafeedImage(data.Dataset):\n",
        "    def __init__(self, x_train, y_train, transform=None):\n",
        "        self.x_train = x_train\n",
        "        self.y_train = y_train\n",
        "        self.transform = transform\n",
        "\n",
        "    def __getitem__(self, index):\n",
        "        img = self.x_train[index]\n",
        "        img = Image.fromarray(np.uint8(img))\n",
        "        if self.transform is not None:\n",
        "            img = self.transform(img)\n",
        "        return img, self.y_train[index]\n",
        "\n",
        "    def __len__(self):\n",
        "        return len(self.x_train)"
      ],
      "execution_count": 0,
      "outputs": []
    },
    {
      "cell_type": "code",
      "metadata": {
        "id": "4CiP3voo65eU",
        "colab_type": "code",
        "colab": {}
      },
      "source": [
        "import torch.nn.functional as F\n",
        "class BaseNet(object):\n",
        "    def __init__(self):\n",
        "        cprint('c', '\\nNet:')\n",
        "\n",
        "    def get_nb_parameters(self):\n",
        "        return np.sum(p.numel() for p in self.model.parameters())\n",
        "\n",
        "    def set_mode_train(self, train=True):\n",
        "        if train:\n",
        "            self.model.train()\n",
        "        else:\n",
        "            self.model.eval()\n",
        "\n",
        "    def update_lr(self, epoch, gamma=0.99):\n",
        "        self.epoch += 1\n",
        "        if self.schedule is not None:\n",
        "            if len(self.schedule) == 0 or epoch in self.schedule:\n",
        "                self.lr *= gamma\n",
        "                print('learning rate: %f  (%d)\\n' % self.lr, epoch)\n",
        "                for param_group in self.optimizer.param_groups:\n",
        "                    param_group['lr'] = self.lr\n",
        "\n",
        "    def save(self, filename):\n",
        "        cprint('c', 'Writting %s\\n' % filename)\n",
        "        torch.save({\n",
        "            'epoch': self.epoch,\n",
        "            'lr': self.lr,\n",
        "            'model': self.model,\n",
        "            'optimizer': self.optimizer}, filename)\n",
        "\n",
        "    def load(self, filename):\n",
        "        cprint('c', 'Reading %s\\n' % filename)\n",
        "        state_dict = torch.load(filename)\n",
        "        self.epoch = state_dict['epoch']\n",
        "        self.lr = state_dict['lr']\n",
        "        self.model = state_dict['model']\n",
        "        self.optimizer = state_dict['optimizer']\n",
        "        print('  restoring epoch: %d, lr: %f' % (self.epoch, self.lr))\n",
        "        return self.epoch"
      ],
      "execution_count": 0,
      "outputs": []
    },
    {
      "cell_type": "code",
      "metadata": {
        "id": "rc-usCVP68Sp",
        "colab_type": "code",
        "colab": {}
      },
      "source": [
        "class laplace_prior(object):\n",
        "    def __init__(self, mu, b):\n",
        "        self.mu = mu\n",
        "        self.b = b\n",
        "\n",
        "    def loglike(self, x, do_sum=True):\n",
        "        if do_sum:\n",
        "            return (-np.log(2*self.b) - torch.abs(x - self.mu)/self.b).sum()\n",
        "        else:\n",
        "            return (-np.log(2*self.b) - torch.abs(x - self.mu)/self.b)\n",
        "\n",
        "class isotropic_gauss_prior(object):\n",
        "    def __init__(self, mu, sigma):\n",
        "        self.mu = mu\n",
        "        self.sigma = sigma\n",
        "        \n",
        "        self.cte_term = -(0.5)*np.log(2*np.pi)\n",
        "        self.det_sig_term = -np.log(self.sigma)\n",
        "\n",
        "    def loglike(self, x, do_sum=True):\n",
        "        \n",
        "        dist_term = -(0.5)*((x - self.mu)/self.sigma)**2\n",
        "        if do_sum:\n",
        "            return (self.cte_term + self.det_sig_term + dist_term).sum()\n",
        "        else:\n",
        "            return (self.cte_term + self.det_sig_term + dist_term)\n",
        "    \n",
        "\n",
        "# TODO: adapt so can be done without sum\n",
        "class spike_slab_2GMM(object):\n",
        "    def __init__(self, mu1, mu2, sigma1, sigma2, pi):\n",
        "        \n",
        "        self.N1 = isotropic_gauss_prior(mu1, sigma1)\n",
        "        self.N2 = isotropic_gauss_prior(mu2, sigma2)\n",
        "        \n",
        "        self.pi1 = pi \n",
        "        self.pi2 = (1-pi)\n",
        "\n",
        "    def loglike(self, x):\n",
        "        \n",
        "        N1_ll = self.N1.loglike(x)\n",
        "        N2_ll = self.N2.loglike(x)\n",
        "        \n",
        "        # Numerical stability trick -> unnormalising logprobs will underflow otherwise\n",
        "        max_loglike = torch.max(N1_ll, N2_ll)\n",
        "        normalised_like = self.pi1 + torch.exp(N1_ll - max_loglike) + self.pi2 + torch.exp(N2_ll - max_loglike)\n",
        "        loglike = torch.log(normalised_like) + max_loglike\n",
        "    \n",
        "        return loglike\n",
        "    "
      ],
      "execution_count": 0,
      "outputs": []
    },
    {
      "cell_type": "code",
      "metadata": {
        "id": "uwjCcF_P6_lL",
        "colab_type": "code",
        "colab": {}
      },
      "source": [
        "def isnan(tensor):\n",
        "  # Gross: https://github.com/pytorch/pytorch/issues/4767\n",
        "    return (tensor != tensor)\n",
        "\n",
        "def hasnan(tensor):\n",
        "    return isnan(tensor).any()\n",
        "\n",
        "def isotropic_gauss_loglike(x, mu, sigma, do_sum=True):\n",
        "    cte_term = -(0.5)*np.log(2*np.pi)\n",
        "    det_sig_term = -torch.log(sigma)\n",
        "    inner = (x - mu)/sigma\n",
        "    dist_term = -(0.5)*(inner**2)\n",
        "    \n",
        "    if do_sum:\n",
        "        out = (cte_term + det_sig_term + dist_term).sum() # sum over all weights\n",
        "    else:\n",
        "        out = (cte_term + det_sig_term + dist_term)\n",
        "#     print(hasnan(x.data), hasnan(mu.data), hasnan(sigma.data), out)\n",
        "#     if isnan(out) or hasnan(out):\n",
        "#         print('NAaaanNNN')\n",
        "#         print('mu max', mu.max())\n",
        "#         print('mu min', mu.min())\n",
        "#         print('sigma max', sigma.max())\n",
        "#         print('sigma min', sigma.min())\n",
        "#         print('x max', x.max())\n",
        "#         print('x min', x.min())\n",
        "#         print((x - mu).max())\n",
        "#         print((x - mu).min())\n",
        "#         print(hasnan(inner))\n",
        "#         print(dist_term)\n",
        "#         print(hasnan(dist_term))\n",
        "    return out \n",
        "\n",
        "\n",
        "\n",
        "class BayesLinear_Normalq(nn.Module):\n",
        "    def __init__(self, n_in, n_out, prior_class):\n",
        "        super(BayesLinear_Normalq, self).__init__()\n",
        "        self.n_in = n_in\n",
        "        self.n_out = n_out\n",
        "        self.prior = prior_class\n",
        "        \n",
        "        # Learnable parameters\n",
        "        self.W_mu = nn.Parameter(torch.Tensor(self.n_in, self.n_out).uniform_(-0.2, 0.2))\n",
        "        self.W_p = nn.Parameter(torch.Tensor(self.n_in, self.n_out).uniform_(-3, -2))\n",
        "        \n",
        "        self.b_mu = nn.Parameter(torch.Tensor(self.n_out).uniform_(-0.2, 0.2))\n",
        "        self.b_p = nn.Parameter(torch.Tensor(self.n_out).uniform_(-3, -2))\n",
        "        \n",
        "       \n",
        "        self.lpw = 0\n",
        "        self.lqw = 0\n",
        "        \n",
        "                                   \n",
        "    def forward(self, X, sample=False):\n",
        "#         print(self.training)\n",
        "\n",
        "        if not self.training and not sample: # This is just a placeholder function\n",
        "            output = torch.mm(X, self.W_mu) + self.b_mu.expand(X.size()[0], self.n_out)\n",
        "            return output, 0, 0\n",
        "                                       \n",
        "        else:\n",
        "                              \n",
        "            # Tensor.new()  Constructs a new tensor of the same data type as self tensor. \n",
        "            # the same random sample is used for every element in the minibatch\n",
        "            eps_W = Variable(self.W_mu.data.new(self.W_mu.size()).normal_())\n",
        "            eps_b = Variable(self.b_mu.data.new(self.b_mu.size()).normal_())\n",
        "                                       \n",
        "            # sample parameters         \n",
        "            \n",
        "            std_w = 1e-6 + F.softplus(self.W_p, beta=1, threshold=20)\n",
        "            std_b = 1e-6 + F.softplus(self.b_p, beta=1, threshold=20)                      \n",
        "                                   \n",
        "            W = self.W_mu + 1 * std_w * eps_W\n",
        "            b = self.b_mu + 1 * std_b * eps_b          \n",
        "    \n",
        "            \n",
        "            output = torch.mm(X, W) + b.unsqueeze(0).expand(X.shape[0], -1) # (batch_size, n_output)\n",
        "            \n",
        "            lqw = isotropic_gauss_loglike(W, self.W_mu, std_w) + isotropic_gauss_loglike(b, self.b_mu, std_b)\n",
        "            lpw = self.prior.loglike(W) + self.prior.loglike(b)\n",
        "            return output, lqw, lpw\n"
      ],
      "execution_count": 0,
      "outputs": []
    },
    {
      "cell_type": "code",
      "metadata": {
        "id": "ZpWT9VfT7DUj",
        "colab_type": "code",
        "colab": {}
      },
      "source": [
        "def sample_weights(W_mu, b_mu, W_p, b_p):\n",
        "    \n",
        "    eps_W = W_mu.data.new(W_mu.size()).normal_()\n",
        "    # sample parameters         \n",
        "    std_w = 1e-6 + F.softplus(W_p, beta=1, threshold=20)     \n",
        "    W = W_mu + 1 * std_w * eps_W\n",
        "    \n",
        "    if b_mu is not None:\n",
        "        std_b = 1e-6 + F.softplus(b_p, beta=1, threshold=20)  \n",
        "        eps_b = b_mu.data.new(b_mu.size()).normal_()\n",
        "        b = b_mu + 1 * std_b * eps_b\n",
        "    else:\n",
        "        b = None\n",
        "    \n",
        "    return W, b"
      ],
      "execution_count": 0,
      "outputs": []
    },
    {
      "cell_type": "code",
      "metadata": {
        "id": "UpTfGdDF7FJM",
        "colab_type": "code",
        "colab": {}
      },
      "source": [
        "class bayes_linear_2L(nn.Module):\n",
        "    def __init__(self, input_dim, output_dim):\n",
        "        super(bayes_linear_2L, self).__init__()\n",
        "        \n",
        "        n_hid = 400\n",
        "#         prior_instance = isotropic_gauss_prior(mu=0, sigma=0.1)\n",
        "#         prior_instance = spike_slab_2GMM(mu1=0, mu2=0, sigma1=0.135, sigma2=0.001, pi=0.5)\n",
        "        #self.prior_instance = isotropic_gauss_prior(mu=0, sigma=0.1)\n",
        "        self.prior_instance = spike_slab_2GMM(0,1,0.5,1,0.5)\n",
        "        self.input_dim = input_dim\n",
        "        self.output_dim = output_dim\n",
        "        \n",
        "        self.bfc1 = BayesLinear_Normalq(input_dim, n_hid, self.prior_instance)\n",
        "        self.bfc2 = BayesLinear_Normalq(n_hid, n_hid, self.prior_instance)\n",
        "        self.bfc3 = BayesLinear_Normalq(n_hid, output_dim, self.prior_instance)\n",
        "        \n",
        "        # choose your non linearity\n",
        "        #self.act = nn.Tanh()\n",
        "        #self.act = nn.Sigmoid()\n",
        "        self.act = nn.ReLU(inplace=True)\n",
        "        #self.act = nn.ELU(inplace=True)\n",
        "        #self.act = nn.SELU(inplace=True)\n",
        "\n",
        "    def forward(self, x, sample=False):\n",
        "        \n",
        "        tlqw = 0\n",
        "        tlpw = 0\n",
        "        \n",
        "        x = x.view(-1, self.input_dim) # view(batch_size, input_dim)\n",
        "        # -----------------\n",
        "        x, lqw, lpw = self.bfc1(x, sample)\n",
        "        tlqw = tlqw + lqw\n",
        "        tlpw = tlpw + lpw\n",
        "        # -----------------\n",
        "        x = self.act(x)\n",
        "        # -----------------\n",
        "        x, lqw, lpw = self.bfc2(x, sample)\n",
        "        tlqw = tlqw + lqw\n",
        "        tlpw = tlpw + lpw\n",
        "        # -----------------\n",
        "        x = self.act(x)\n",
        "        # -----------------\n",
        "        y, lqw, lpw = self.bfc3(x, sample)\n",
        "        tlqw = tlqw + lqw\n",
        "        tlpw = tlpw + lpw\n",
        "        \n",
        "        return y, tlqw, tlpw\n",
        "    \n",
        "    def sample_predict(self, x, Nsamples):\n",
        "        \n",
        "        # Just copies type from x, initializes new vector\n",
        "        predictions = x.data.new(Nsamples, x.shape[0], self.output_dim)\n",
        "        tlqw_vec = np.zeros(Nsamples)\n",
        "        tlpw_vec = np.zeros(Nsamples)\n",
        "        \n",
        "        for i in range(Nsamples):\n",
        "            \n",
        "            y, tlqw, tlpw = self.forward(x, sample=True)\n",
        "            predictions[i] = y\n",
        "            tlqw_vec[i] = tlqw\n",
        "            tlpw_vec[i] = tlpw \n",
        "            \n",
        "        return predictions, tlqw_vec, tlpw_vec"
      ],
      "execution_count": 0,
      "outputs": []
    },
    {
      "cell_type": "code",
      "metadata": {
        "id": "YYJYSUPcrTQv",
        "colab_type": "code",
        "colab": {}
      },
      "source": [
        ""
      ],
      "execution_count": 0,
      "outputs": []
    },
    {
      "cell_type": "code",
      "metadata": {
        "id": "9k-hmelx7HwE",
        "colab_type": "code",
        "colab": {}
      },
      "source": [
        "from __future__ import division\n",
        "import copy\n",
        "\n",
        "class Bayes_Net(BaseNet):\n",
        "    eps = 1e-6\n",
        "\n",
        "    def __init__(self, lr=1e-3, channels_in=1, side_in=28, cuda=True, classes=10, batch_size=128, Nbatches=0):\n",
        "        super(Bayes_Net, self).__init__()\n",
        "        cprint('y', ' Creating Net!! ')\n",
        "        self.lr = lr\n",
        "        self.schedule = None  # [] #[50,200,400,600]\n",
        "        self.cuda = cuda\n",
        "        self.channels_in = channels_in\n",
        "        self.classes = classes\n",
        "        self.batch_size = batch_size\n",
        "        self.Nbatches = Nbatches\n",
        "        self.side_in=side_in\n",
        "        self.create_net()\n",
        "        self.create_opt()\n",
        "        self.epoch = 0\n",
        "\n",
        "        self.test=False\n",
        "\n",
        "    def create_net(self):\n",
        "        torch.manual_seed(42)\n",
        "        if self.cuda:\n",
        "            torch.cuda.manual_seed(42)\n",
        "\n",
        "        self.model = bayes_linear_2L(input_dim=self.channels_in*self.side_in*self.side_in, output_dim=self.classes)\n",
        "        if self.cuda:\n",
        "            self.model.cuda()\n",
        "#             cudnn.benchmark = True\n",
        "\n",
        "        print('    Total params: %.2fM' % (self.get_nb_parameters() / 1000000.0))\n",
        "\n",
        "    def create_opt(self):\n",
        "#         self.optimizer = torch.optim.Adam(self.model.parameters(), lr=self.lr, betas=(0.9, 0.999), eps=1e-08,\n",
        "#                                           weight_decay=0)\n",
        "        self.optimizer = torch.optim.SGD(self.model.parameters(), lr=self.lr, momentum=0)\n",
        "\n",
        "    #         self.optimizer = torch.optim.SGD(self.model.parameters(), lr=self.lr, momentum=0.9)\n",
        "#         self.sched = torch.optim.lr_scheduler.StepLR(self.optimizer, step_size=1, gamma=10, last_epoch=-1)\n",
        "\n",
        "    def fit(self, x, y, samples=1):\n",
        "        x, y = to_variable(var=(x, y.long()), cuda=self.cuda)\n",
        "\n",
        "        self.optimizer.zero_grad()\n",
        "\n",
        "        if samples == 1:\n",
        "            out, tlqw, tlpw = self.model(x)\n",
        "            mlpdw = F.cross_entropy(out, y, reduction='sum')\n",
        "            Edkl = (tlqw - tlpw)/self.Nbatches\n",
        "            \n",
        "        elif samples > 1:\n",
        "            mlpdw_cum = 0\n",
        "            Edkl_cum = 0\n",
        "            \n",
        "            for i in range(samples):\n",
        "                out, tlqw, tlpw = self.model(x, sample=True)\n",
        "                mlpdw_i = F.cross_entropy(out, y, reduction='sum')\n",
        "                Edkl_i = (tlqw - tlpw)/self.Nbatches\n",
        "                mlpdw_cum = mlpdw_cum + mlpdw_i\n",
        "                Edkl_cum = Edkl_cum + Edkl_i \n",
        "            \n",
        "            mlpdw = mlpdw_cum/samples\n",
        "            Edkl = Edkl_cum/samples\n",
        "        \n",
        "        loss = Edkl + mlpdw\n",
        "        loss.backward()\n",
        "        self.optimizer.step()\n",
        "\n",
        "        # out: (batch_size, out_channels, out_caps_dims)\n",
        "        pred = out.data.max(dim=1, keepdim=False)[1]  # get the index of the max log-probability\n",
        "        err = pred.ne(y.data).sum()\n",
        "\n",
        "        return Edkl.data, mlpdw.data, err\n",
        "\n",
        "    def eval(self, x, y, train=False):\n",
        "        x, y = to_variable(var=(x, y.long()), cuda=self.cuda)\n",
        "\n",
        "        out, _, _ = self.model(x)\n",
        "\n",
        "        loss = F.cross_entropy(out, y, reduction='sum')\n",
        "\n",
        "        probs = F.softmax(out, dim=1).data.cpu()\n",
        "\n",
        "        pred = out.data.max(dim=1, keepdim=False)[1]  # get the index of the max log-probability\n",
        "        err = pred.ne(y.data).sum()\n",
        "\n",
        "        return loss.data, err, probs\n",
        "    \n",
        "    def sample_eval(self, x, y, Nsamples, logits=True, train=False):\n",
        "        x, y = to_variable(var=(x, y.long()), cuda=self.cuda)\n",
        "\n",
        "        out, _, _ = self.model.sample_predict(x, Nsamples)\n",
        "        \n",
        "        if logits:\n",
        "            mean_out = out.mean(dim=0, keepdim=False)\n",
        "            loss = F.cross_entropy(mean_out, y, reduction='sum')\n",
        "            probs = F.softmax(mean_out, dim=1).data.cpu()\n",
        "            \n",
        "        else:\n",
        "            mean_out =  F.softmax(out, dim=2).mean(dim=0, keepdim=False)\n",
        "            probs = mean_out.data.cpu()\n",
        "            \n",
        "            log_mean_probs_out = torch.log(mean_out)\n",
        "            loss = F.nll_loss(log_mean_probs_out, y, reduction='sum')\n",
        "\n",
        "        pred = mean_out.data.max(dim=1, keepdim=False)[1]  # get the index of the max log-probability\n",
        "        err = pred.ne(y.data).sum()\n",
        "\n",
        "        return loss.data, err, probs\n",
        "    \n",
        "    def all_sample_eval(self, x, y, Nsamples):\n",
        "        x, y = to_variable(var=(x, y.long()), cuda=self.cuda)\n",
        "\n",
        "        out, _, _ = self.model.sample_predict(x, Nsamples)\n",
        "        \n",
        "        prob_out =  F.softmax(out, dim=2)\n",
        "        prob_out = prob_out.data\n",
        "\n",
        "        return prob_out\n",
        "    \n",
        "    \n",
        "    def get_weight_samples(self, Nsamples=10):\n",
        "        state_dict = self.model.state_dict()\n",
        "        weight_vec = []\n",
        "        \n",
        "        for i in range(Nsamples):\n",
        "            previous_layer_name = ''\n",
        "            for key in state_dict.keys():\n",
        "                layer_name = key.split('.')[0]\n",
        "                if layer_name != previous_layer_name:\n",
        "                    previous_layer_name = layer_name\n",
        "\n",
        "                    W_mu = state_dict[layer_name+'.W_mu'].data\n",
        "                    W_p = state_dict[layer_name+'.W_p'].data\n",
        "\n",
        "    #                 b_mu = state_dict[layer_name+'.b_mu'].cpu().data\n",
        "    #                 b_p = state_dict[layer_name+'.b_p'].cpu().data\n",
        "\n",
        "                    W, b = sample_weights(W_mu=W_mu, b_mu=None, W_p=W_p, b_p=None)\n",
        "\n",
        "                    for weight in W.cpu().view(-1):\n",
        "                        weight_vec.append(weight)\n",
        "            \n",
        "        return np.array(weight_vec)\n",
        "    \n",
        "    def get_weight_SNR(self, thresh=None):\n",
        "        state_dict = self.model.state_dict()\n",
        "        weight_SNR_vec = []\n",
        "        \n",
        "        if thresh is not None:\n",
        "            mask_dict = {}\n",
        "        \n",
        "        previous_layer_name = ''\n",
        "        for key in state_dict.keys():\n",
        "            layer_name = key.split('.')[0]\n",
        "            if layer_name != previous_layer_name:\n",
        "                previous_layer_name = layer_name\n",
        "\n",
        "                W_mu = state_dict[layer_name+'.W_mu'].data\n",
        "                W_p = state_dict[layer_name+'.W_p'].data\n",
        "                sig_W = 1e-6 + F.softplus(W_p, beta=1, threshold=20)\n",
        "\n",
        "                b_mu = state_dict[layer_name+'.b_mu'].data\n",
        "                b_p = state_dict[layer_name+'.b_p'].data\n",
        "                sig_b = 1e-6 + F.softplus(b_p, beta=1, threshold=20)\n",
        "\n",
        "                W_snr = (torch.abs(W_mu)/sig_W)\n",
        "                b_snr = (torch.abs(b_mu)/sig_b)\n",
        "                \n",
        "                if thresh is not None:\n",
        "                    mask_dict[layer_name+'.W'] = W_snr > thresh\n",
        "                    mask_dict[layer_name+'.b'] = b_snr > thresh\n",
        "                    \n",
        "                else:\n",
        "                \n",
        "                    for weight_SNR in W_snr.cpu().view(-1):\n",
        "                        weight_SNR_vec.append(weight_SNR)\n",
        "\n",
        "                    for weight_SNR in b_snr.cpu().view(-1):\n",
        "                        weight_SNR_vec.append(weight_SNR)\n",
        "        \n",
        "        if thresh is not None:\n",
        "            return mask_dict\n",
        "        else:\n",
        "            return np.array(weight_SNR_vec)\n",
        "    \n",
        "    \n",
        "    def get_weight_KLD(self, Nsamples=20, thresh=None):\n",
        "        state_dict = self.model.state_dict()\n",
        "        weight_KLD_vec = []\n",
        "        \n",
        "        if thresh is not None:\n",
        "            mask_dict = {}\n",
        "        \n",
        "        previous_layer_name = ''\n",
        "        for key in state_dict.keys():\n",
        "            layer_name = key.split('.')[0]\n",
        "            if layer_name != previous_layer_name:\n",
        "                previous_layer_name = layer_name\n",
        "\n",
        "                W_mu = state_dict[layer_name+'.W_mu'].data\n",
        "                W_p = state_dict[layer_name+'.W_p'].data\n",
        "                b_mu = state_dict[layer_name+'.b_mu'].data\n",
        "                b_p = state_dict[layer_name+'.b_p'].data\n",
        "                \n",
        "                std_w = 1e-6 + F.softplus(W_p, beta=1, threshold=20)  \n",
        "                std_b = 1e-6 + F.softplus(b_p, beta=1, threshold=20)\n",
        "\n",
        "                KL_W = W_mu.new(W_mu.size()).zero_()\n",
        "                KL_b = b_mu.new(b_mu.size()).zero_()\n",
        "                for i in range(Nsamples):\n",
        "                    W, b = sample_weights(W_mu=W_mu, b_mu=b_mu, W_p=W_p, b_p=b_p)  \n",
        "                    # Note that this will currently not work with slab and spike prior\n",
        "                    KL_W += isotropic_gauss_loglike(W, W_mu, std_w, do_sum=False) - self.model.prior_instance.loglike(W, do_sum=False)\n",
        "                    KL_b += isotropic_gauss_loglike(b, b_mu, std_b, do_sum=False) - self.model.prior_instance.loglike(b, do_sum=False)\n",
        "\n",
        "                KL_W /= Nsamples\n",
        "                KL_b /= Nsamples\n",
        "                \n",
        "                if thresh is not None:\n",
        "                    mask_dict[layer_name+'.W'] = KL_W > thresh\n",
        "                    mask_dict[layer_name+'.b'] = KL_b > thresh\n",
        "                    \n",
        "                else:\n",
        "\n",
        "                    for weight_KLD in KL_W.cpu().view(-1):\n",
        "                        weight_KLD_vec.append(weight_KLD)\n",
        "\n",
        "                    for weight_KLD in KL_b.cpu().view(-1):\n",
        "                        weight_KLD_vec.append(weight_KLD)\n",
        "        \n",
        "        if thresh is not None:\n",
        "            return mask_dict\n",
        "        else:    \n",
        "            return np.array(weight_KLD_vec)\n",
        "        \n",
        "        \n",
        "    def mask_model(self, Nsamples=0, thresh=0):\n",
        "        '''\n",
        "        Nsamples is used to select SNR (0) or KLD (>0) based masking\n",
        "        '''\n",
        "        original_state_dict = copy.deepcopy(self.model.state_dict())\n",
        "        state_dict = self.model.state_dict()\n",
        "        \n",
        "        if Nsamples == 0:\n",
        "            mask_dict = self.get_weight_SNR(thresh=thresh)\n",
        "        else:\n",
        "            mask_dict = self.get_weight_KLD(Nsamples=Nsamples, thresh=thresh)\n",
        "        \n",
        "        n_unmasked = 0\n",
        "        \n",
        "        previous_layer_name = ''\n",
        "        for key in state_dict.keys():\n",
        "            layer_name = key.split('.')[0]\n",
        "            if layer_name != previous_layer_name:\n",
        "                previous_layer_name = layer_name\n",
        "                \n",
        "                state_dict[layer_name+'.W_mu'][1-mask_dict[layer_name+'.W']] = 0\n",
        "                state_dict[layer_name+'.W_p'][1-mask_dict[layer_name+'.W']] = -1000\n",
        "                \n",
        "                state_dict[layer_name+'.b_mu'][1-mask_dict[layer_name+'.b']] = 0\n",
        "                state_dict[layer_name+'.b_p'][1-mask_dict[layer_name+'.b']] = -1000\n",
        "                \n",
        "                \n",
        "                n_unmasked += mask_dict[layer_name+'.W'].sum()\n",
        "                n_unmasked += mask_dict[layer_name+'.b'].sum()\n",
        "                \n",
        "        return original_state_dict, n_unmasked\n",
        "            "
      ],
      "execution_count": 0,
      "outputs": []
    },
    {
      "cell_type": "code",
      "metadata": {
        "id": "G8JO0VDD7Mh4",
        "colab_type": "code",
        "outputId": "426d3b82-060e-41c7-fe84-8b374052abe9",
        "colab": {
          "base_uri": "https://localhost:8080/",
          "height": 1000
        }
      },
      "source": [
        "from __future__ import print_function\n",
        "from __future__ import division\n",
        "import time\n",
        "import torch.utils.data\n",
        "from torchvision import transforms, datasets\n",
        "import matplotlib\n",
        "import copy\n",
        "\n",
        "\n",
        "#models_dir = 'models_weight_uncertainty_MC_MNIST_gaussian'\n",
        "#results_dir = 'results_weight_uncertainty_MC_MNIST_gaussian'\n",
        "\n",
        "#mkdir(models_dir)\n",
        "#mkdir(results_dir)\n",
        "# ------------------------------------------------------------------------------------------------------\n",
        "# train config\n",
        "NTrainPointsMNIST = 60000\n",
        "batch_size = 128\n",
        "nb_epochs = 100\n",
        "log_interval = 1\n",
        "\n",
        "savemodel_its = [20, 50, 80, 120]\n",
        "save_dicts = []\n",
        "\n",
        "# ------------------------------------------------------------------------------------------------------\n",
        "# dataset\n",
        "cprint('c', '\\nData:')\n",
        "\n",
        "\n",
        "# load data\n",
        "\n",
        "# data augmentation\n",
        "transform_train = transforms.Compose([\n",
        "    transforms.ToTensor(),\n",
        "    transforms.Normalize(mean=(0.1307,), std=(0.3081,))\n",
        "])\n",
        "\n",
        "transform_test = transforms.Compose([\n",
        "    transforms.ToTensor(),\n",
        "    transforms.Normalize(mean=(0.1307,), std=(0.3081,))\n",
        "])\n",
        "\n",
        "use_cuda = torch.cuda.is_available()\n",
        "\n",
        "trainset = datasets.MNIST(root='../data', train=True, download=True, transform=transform_train)\n",
        "valset = datasets.MNIST(root='../data', train=False, download=True, transform=transform_test)\n",
        "\n",
        "if use_cuda:\n",
        "    trainloader = torch.utils.data.DataLoader(trainset, batch_size=batch_size, shuffle=True, pin_memory=True, num_workers=3)\n",
        "    valloader = torch.utils.data.DataLoader(valset, batch_size=batch_size, shuffle=False, pin_memory=True, num_workers=3)\n",
        "\n",
        "else:\n",
        "    trainloader = torch.utils.data.DataLoader(trainset, batch_size=batch_size, shuffle=True, pin_memory=False,\n",
        "                                              num_workers=3)\n",
        "    valloader = torch.utils.data.DataLoader(valset, batch_size=batch_size, shuffle=False, pin_memory=False,\n",
        "                                            num_workers=3)\n",
        "\n",
        "\n",
        "## ---------------------------------------------------------------------------------------------------------------------\n",
        "# net dims\n",
        "cprint('c', '\\nNetwork:')\n",
        "\n",
        "lr = 1e-3\n",
        "nsamples = 3\n",
        "########################################################################################\n",
        "net = Bayes_Net(lr=lr, channels_in=1, side_in=28, cuda=use_cuda, classes=10, batch_size=batch_size,\n",
        "          Nbatches=(NTrainPointsMNIST/batch_size))\n",
        "\n",
        "epoch = 0\n",
        "\n",
        "## ---------------------------------------------------------------------------------------------------------------------\n",
        "# train\n",
        "cprint('c', '\\nTrain:')\n",
        "\n",
        "print('  init cost variables:')\n",
        "kl_cost_train = np.zeros(nb_epochs)\n",
        "pred_cost_train = np.zeros(nb_epochs)\n",
        "err_train = np.zeros(nb_epochs)\n",
        "\n",
        "cost_dev = np.zeros(nb_epochs)\n",
        "err_dev = np.zeros(nb_epochs)\n",
        "# best_cost = np.inf\n",
        "best_err = np.inf\n",
        "\n",
        "\n",
        "nb_its_dev = 1\n",
        "\n",
        "tic0 = time.time()\n",
        "for i in range(epoch, nb_epochs):\n",
        "    \n",
        "#     if i in [1]:\n",
        "#         print('updating lr')\n",
        "#         net.sched.step()\n",
        "    \n",
        "    net.set_mode_train(True)\n",
        "\n",
        "    tic = time.time()\n",
        "    nb_samples = 0\n",
        "\n",
        "    for x, y in trainloader:\n",
        "        cost_dkl, cost_pred, err = net.fit(x, y, samples=nsamples)\n",
        "\n",
        "        err_train[i] += err\n",
        "        kl_cost_train[i] += cost_dkl\n",
        "        pred_cost_train[i] += cost_pred\n",
        "        nb_samples += len(x)\n",
        "\n",
        "    kl_cost_train[i] /= nb_samples\n",
        "    pred_cost_train[i] /= nb_samples\n",
        "    err_train[i] /= nb_samples\n",
        "\n",
        "    toc = time.time()\n",
        "    net.epoch = i\n",
        "    # ---- print\n",
        "    print(\"it %d/%d, Jtr_KL = %f, Jtr_pred = %f, err = %f, \" % (i, nb_epochs, kl_cost_train[i], pred_cost_train[i], err_train[i]), end=\"\")\n",
        "    cprint('r', '   time: %f seconds\\n' % (toc - tic))\n",
        "\n",
        "    # Save state dict\n",
        "    \n",
        "    #if i in savemodel_its:\n",
        "    #    save_dicts.append(copy.deepcopy(net.model.state_dict()))\n",
        "    \n",
        "    # ---- dev\n",
        "    if i % nb_its_dev == 0:\n",
        "        net.set_mode_train(False)\n",
        "        nb_samples = 0\n",
        "        for j, (x, y) in enumerate(valloader):\n",
        "\n",
        "            cost, err, probs = net.eval(x, y)\n",
        "\n",
        "            cost_dev[i] += cost\n",
        "            err_dev[i] += err\n",
        "            nb_samples += len(x)\n",
        "\n",
        "        cost_dev[i] /= nb_samples\n",
        "        err_dev[i] /= nb_samples\n",
        "\n",
        "        cprint('g', '    Jdev = %f, err = %f\\n' % (cost_dev[i], err_dev[i]))\n",
        "\n",
        "        #if err_dev[i] < best_err:\n",
        "         #   best_err = err_dev[i]\n",
        "         #   cprint('b', 'best test error')\n",
        "          #  net.save(models_dir+'/theta_best.dat')\n",
        "\n",
        "toc0 = time.time()\n",
        "runtime_per_it = (toc0 - tic0) / float(nb_epochs)\n",
        "cprint('r', '   average time: %f seconds\\n' % runtime_per_it)\n",
        "\n",
        "net.save(models_dir+'/theta_last.dat')\n",
        "\n",
        "## ---------------------------------------------------------------------------------------------------------------------\n",
        "# results\n",
        "cprint('c', '\\nRESULTS:')\n",
        "nb_parameters = net.get_nb_parameters()\n",
        "best_cost_dev = np.min(cost_dev)\n",
        "best_cost_train = np.min(pred_cost_train)\n",
        "err_dev_min = err_dev[::nb_its_dev].min()\n",
        "\n",
        "print('  cost_dev: %f (cost_train %f)' % (best_cost_dev, best_cost_train))\n",
        "print('  err_dev: %f' % (err_dev_min))\n",
        "print('  nb_parameters: %d (%s)' % (nb_parameters, humansize(nb_parameters)))\n",
        "print('  time_per_it: %fs\\n' % (runtime_per_it))\n",
        "\n",
        "\n",
        "\n",
        "## Save results for plots\n",
        "# np.save('results/test_predictions.npy', test_predictions)\n",
        "np.save(results_dir + '/cost_train.npy', kl_cost_train)\n",
        "np.save(results_dir + '/cost_train.npy', pred_cost_train)\n",
        "np.save(results_dir + '/cost_dev.npy', cost_dev)\n",
        "np.save(results_dir + '/err_train.npy', err_train)\n",
        "np.save(results_dir + '/err_dev.npy', err_dev)\n",
        "\n",
        "## ---------------------------------------------------------------------------------------------------------------------\n",
        "# fig cost vs its\n",
        "\n",
        "textsize = 15\n",
        "marker=5\n",
        "\n",
        "plt.figure(dpi=100)\n",
        "fig, ax1 = plt.subplots()\n",
        "ax1.plot(pred_cost_train, 'r--')\n",
        "ax1.plot(range(0, nb_epochs, nb_its_dev), cost_dev[::nb_its_dev], 'b-')\n",
        "ax1.set_ylabel('Cross Entropy')\n",
        "plt.xlabel('epoch')\n",
        "plt.grid(b=True, which='major', color='k', linestyle='-')\n",
        "plt.grid(b=True, which='minor', color='k', linestyle='--')\n",
        "lgd = plt.legend(['test error', 'train error'], markerscale=marker, prop={'size': textsize, 'weight': 'normal'})\n",
        "ax = plt.gca()\n",
        "plt.title('classification costs')\n",
        "for item in ([ax.title, ax.xaxis.label, ax.yaxis.label] +\n",
        "    ax.get_xticklabels() + ax.get_yticklabels()):\n",
        "    item.set_fontsize(textsize)\n",
        "    item.set_weight('normal')\n",
        "plt.savefig(results_dir + '/cost.png', bbox_extra_artists=(lgd,), bbox_inches='tight')\n",
        "\n",
        "plt.figure()\n",
        "fig, ax1 = plt.subplots()\n",
        "ax1.plot(kl_cost_train, 'r')\n",
        "ax1.set_ylabel('nats?')\n",
        "plt.xlabel('epoch')\n",
        "plt.grid(b=True, which='major', color='k', linestyle='-')\n",
        "plt.grid(b=True, which='minor', color='k', linestyle='--')\n",
        "ax = plt.gca()\n",
        "plt.title('DKL (per sample)')\n",
        "for item in ([ax.title, ax.xaxis.label, ax.yaxis.label] +\n",
        "    ax.get_xticklabels() + ax.get_yticklabels()):\n",
        "    item.set_fontsize(textsize)\n",
        "    item.set_weight('normal')\n",
        "\n",
        "\n",
        "plt.figure(dpi=100)\n",
        "fig2, ax2 = plt.subplots()\n",
        "ax2.set_ylabel('% error')\n",
        "ax2.semilogy(range(0, nb_epochs, nb_its_dev), 100 * err_dev[::nb_its_dev], 'b-')\n",
        "ax2.semilogy(100 * err_train, 'r--')\n",
        "plt.xlabel('epoch')\n",
        "plt.grid(b=True, which='major', color='k', linestyle='-')\n",
        "plt.grid(b=True, which='minor', color='k', linestyle='--')\n",
        "ax2.get_yaxis().set_minor_formatter(matplotlib.ticker.ScalarFormatter())\n",
        "ax2.get_yaxis().set_major_formatter(matplotlib.ticker.ScalarFormatter())\n",
        "lgd = plt.legend(['test error', 'train error'], markerscale=marker, prop={'size': textsize, 'weight': 'normal'})\n",
        "ax = plt.gca()\n",
        "for item in ([ax.title, ax.xaxis.label, ax.yaxis.label] +\n",
        "    ax.get_xticklabels() + ax.get_yticklabels()):\n",
        "    item.set_fontsize(textsize)\n",
        "    item.set_weight('normal')\n",
        "plt.savefig(results_dir + '/err.png',  bbox_extra_artists=(lgd,), box_inches='tight')"
      ],
      "execution_count": 0,
      "outputs": [
        {
          "output_type": "stream",
          "text": [
            "\u001b[36m\n",
            "Data:\u001b[0m\n",
            "\u001b[36m\n",
            "Network:\u001b[0m\n",
            "\u001b[36m\n",
            "Net:\u001b[0m\n",
            "\u001b[33m Creating Net!! \u001b[0m\n",
            "    Total params: 0.96M\n",
            "\u001b[36m\n",
            "Train:\u001b[0m\n",
            "  init cost variables:\n"
          ],
          "name": "stdout"
        },
        {
          "output_type": "stream",
          "text": [
            "/usr/local/lib/python3.6/dist-packages/ipykernel_launcher.py:7: DeprecationWarning: Calling np.sum(generator) is deprecated, and in the future will give a different result. Use np.sum(np.fromiter(generator)) or the python sum builtin instead.\n",
            "  import sys\n"
          ],
          "name": "stderr"
        },
        {
          "output_type": "stream",
          "text": [
            "it 0/100, Jtr_KL = 11.090269, Jtr_pred = 1.284238, err = 0.220350, \u001b[31m   time: 31.613770 seconds\n",
            "\u001b[0m\n",
            "\u001b[32m    Jdev = 0.255116, err = 0.075900\n",
            "\u001b[0m\n",
            "it 1/100, Jtr_KL = 11.084159, Jtr_pred = 0.391667, err = 0.113083, \u001b[31m   time: 31.715090 seconds\n",
            "\u001b[0m\n",
            "\u001b[32m    Jdev = 0.187477, err = 0.054800\n",
            "\u001b[0m\n",
            "it 2/100, Jtr_KL = 11.076904, Jtr_pred = 0.310054, err = 0.088417, \u001b[31m   time: 31.645343 seconds\n",
            "\u001b[0m\n",
            "\u001b[32m    Jdev = 0.162079, err = 0.047800\n",
            "\u001b[0m\n",
            "it 3/100, Jtr_KL = 11.069387, Jtr_pred = 0.265415, err = 0.077083, \u001b[31m   time: 31.684786 seconds\n",
            "\u001b[0m\n",
            "\u001b[32m    Jdev = 0.141215, err = 0.041000\n",
            "\u001b[0m\n",
            "it 4/100, Jtr_KL = 11.061975, Jtr_pred = 0.236580, err = 0.069733, \u001b[31m   time: 31.536874 seconds\n",
            "\u001b[0m\n",
            "\u001b[32m    Jdev = 0.132129, err = 0.038500\n",
            "\u001b[0m\n",
            "it 5/100, Jtr_KL = 11.054317, Jtr_pred = 0.218825, err = 0.064633, \u001b[31m   time: 31.617740 seconds\n",
            "\u001b[0m\n",
            "\u001b[32m    Jdev = 0.122440, err = 0.036400\n",
            "\u001b[0m\n",
            "it 6/100, Jtr_KL = 11.046373, Jtr_pred = 0.200730, err = 0.057667, \u001b[31m   time: 31.543131 seconds\n",
            "\u001b[0m\n",
            "\u001b[32m    Jdev = 0.120792, err = 0.036600\n",
            "\u001b[0m\n",
            "it 7/100, Jtr_KL = 11.038732, Jtr_pred = 0.185125, err = 0.054083, \u001b[31m   time: 31.459277 seconds\n",
            "\u001b[0m\n",
            "\u001b[32m    Jdev = 0.109994, err = 0.031300\n",
            "\u001b[0m\n",
            "it 8/100, Jtr_KL = 11.031074, Jtr_pred = 0.175025, err = 0.050750, \u001b[31m   time: 31.639469 seconds\n",
            "\u001b[0m\n",
            "\u001b[32m    Jdev = 0.106104, err = 0.031500\n",
            "\u001b[0m\n",
            "it 9/100, Jtr_KL = 11.023521, Jtr_pred = 0.164924, err = 0.048033, \u001b[31m   time: 31.454700 seconds\n",
            "\u001b[0m\n",
            "\u001b[32m    Jdev = 0.100693, err = 0.029000\n",
            "\u001b[0m\n",
            "it 10/100, Jtr_KL = 11.015604, Jtr_pred = 0.157741, err = 0.046250, \u001b[31m   time: 31.488678 seconds\n",
            "\u001b[0m\n",
            "\u001b[32m    Jdev = 0.099777, err = 0.029500\n",
            "\u001b[0m\n",
            "it 11/100, Jtr_KL = 11.008201, Jtr_pred = 0.150306, err = 0.043217, \u001b[31m   time: 31.419805 seconds\n",
            "\u001b[0m\n",
            "\u001b[32m    Jdev = 0.096968, err = 0.028900\n",
            "\u001b[0m\n",
            "it 12/100, Jtr_KL = 10.999620, Jtr_pred = 0.142011, err = 0.041800, \u001b[31m   time: 31.498070 seconds\n",
            "\u001b[0m\n",
            "\u001b[32m    Jdev = 0.091034, err = 0.026500\n",
            "\u001b[0m\n",
            "it 13/100, Jtr_KL = 10.992236, Jtr_pred = 0.137194, err = 0.039567, \u001b[31m   time: 31.293853 seconds\n",
            "\u001b[0m\n",
            "\u001b[32m    Jdev = 0.088695, err = 0.025800\n",
            "\u001b[0m\n",
            "it 14/100, Jtr_KL = 10.984553, Jtr_pred = 0.130744, err = 0.038667, \u001b[31m   time: 31.566066 seconds\n",
            "\u001b[0m\n",
            "\u001b[32m    Jdev = 0.091609, err = 0.026600\n",
            "\u001b[0m\n",
            "it 15/100, Jtr_KL = 10.976879, Jtr_pred = 0.127658, err = 0.036967, \u001b[31m   time: 31.538027 seconds\n",
            "\u001b[0m\n",
            "\u001b[32m    Jdev = 0.083755, err = 0.024900\n",
            "\u001b[0m\n",
            "it 16/100, Jtr_KL = 10.969160, Jtr_pred = 0.120958, err = 0.034683, \u001b[31m   time: 31.349965 seconds\n",
            "\u001b[0m\n",
            "\u001b[32m    Jdev = 0.087141, err = 0.024100\n",
            "\u001b[0m\n",
            "it 17/100, Jtr_KL = 10.960801, Jtr_pred = 0.118708, err = 0.035933, \u001b[31m   time: 31.403790 seconds\n",
            "\u001b[0m\n",
            "\u001b[32m    Jdev = 0.081883, err = 0.022600\n",
            "\u001b[0m\n",
            "it 18/100, Jtr_KL = 10.952630, Jtr_pred = 0.115492, err = 0.033883, \u001b[31m   time: 31.514982 seconds\n",
            "\u001b[0m\n",
            "\u001b[32m    Jdev = 0.080554, err = 0.022700\n",
            "\u001b[0m\n",
            "it 19/100, Jtr_KL = 10.945129, Jtr_pred = 0.111606, err = 0.033217, \u001b[31m   time: 31.467605 seconds\n",
            "\u001b[0m\n",
            "\u001b[32m    Jdev = 0.078182, err = 0.023100\n",
            "\u001b[0m\n",
            "it 20/100, Jtr_KL = 10.937970, Jtr_pred = 0.110457, err = 0.032700, \u001b[31m   time: 31.376319 seconds\n",
            "\u001b[0m\n",
            "\u001b[32m    Jdev = 0.078769, err = 0.022900\n",
            "\u001b[0m\n",
            "it 21/100, Jtr_KL = 10.929667, Jtr_pred = 0.105131, err = 0.030933, \u001b[31m   time: 31.280900 seconds\n",
            "\u001b[0m\n",
            "\u001b[32m    Jdev = 0.076418, err = 0.022200\n",
            "\u001b[0m\n",
            "it 22/100, Jtr_KL = 10.922269, Jtr_pred = 0.100998, err = 0.030050, \u001b[31m   time: 31.403610 seconds\n",
            "\u001b[0m\n",
            "\u001b[32m    Jdev = 0.076329, err = 0.021100\n",
            "\u001b[0m\n",
            "it 23/100, Jtr_KL = 10.913620, Jtr_pred = 0.099078, err = 0.028833, \u001b[31m   time: 31.437565 seconds\n",
            "\u001b[0m\n",
            "\u001b[32m    Jdev = 0.076859, err = 0.021400\n",
            "\u001b[0m\n",
            "it 24/100, Jtr_KL = 10.906011, Jtr_pred = 0.097182, err = 0.029317, \u001b[31m   time: 31.381815 seconds\n",
            "\u001b[0m\n",
            "\u001b[32m    Jdev = 0.075390, err = 0.021200\n",
            "\u001b[0m\n",
            "it 25/100, Jtr_KL = 10.898178, Jtr_pred = 0.094028, err = 0.027733, \u001b[31m   time: 31.294467 seconds\n",
            "\u001b[0m\n",
            "\u001b[32m    Jdev = 0.074932, err = 0.020200\n",
            "\u001b[0m\n",
            "it 26/100, Jtr_KL = 10.890565, Jtr_pred = 0.092605, err = 0.027417, \u001b[31m   time: 31.320055 seconds\n",
            "\u001b[0m\n",
            "\u001b[32m    Jdev = 0.075077, err = 0.021000\n",
            "\u001b[0m\n",
            "it 27/100, Jtr_KL = 10.883080, Jtr_pred = 0.090458, err = 0.027200, \u001b[31m   time: 31.496585 seconds\n",
            "\u001b[0m\n",
            "\u001b[32m    Jdev = 0.073528, err = 0.020200\n",
            "\u001b[0m\n",
            "it 28/100, Jtr_KL = 10.875279, Jtr_pred = 0.089364, err = 0.027333, \u001b[31m   time: 31.226586 seconds\n",
            "\u001b[0m\n",
            "\u001b[32m    Jdev = 0.072638, err = 0.019900\n",
            "\u001b[0m\n",
            "it 29/100, Jtr_KL = 10.867162, Jtr_pred = 0.085417, err = 0.025600, \u001b[31m   time: 31.311790 seconds\n",
            "\u001b[0m\n",
            "\u001b[32m    Jdev = 0.071840, err = 0.019700\n",
            "\u001b[0m\n",
            "it 30/100, Jtr_KL = 10.859294, Jtr_pred = 0.083871, err = 0.024933, \u001b[31m   time: 31.334698 seconds\n",
            "\u001b[0m\n",
            "\u001b[32m    Jdev = 0.073881, err = 0.020300\n",
            "\u001b[0m\n",
            "it 31/100, Jtr_KL = 10.851647, Jtr_pred = 0.083094, err = 0.025367, \u001b[31m   time: 31.305428 seconds\n",
            "\u001b[0m\n",
            "\u001b[32m    Jdev = 0.071496, err = 0.019500\n",
            "\u001b[0m\n",
            "it 32/100, Jtr_KL = 10.844175, Jtr_pred = 0.079818, err = 0.024167, \u001b[31m   time: 31.189332 seconds\n",
            "\u001b[0m\n",
            "\u001b[32m    Jdev = 0.073814, err = 0.019900\n",
            "\u001b[0m\n",
            "it 33/100, Jtr_KL = 10.836180, Jtr_pred = 0.078553, err = 0.024217, \u001b[31m   time: 31.309185 seconds\n",
            "\u001b[0m\n",
            "\u001b[32m    Jdev = 0.074139, err = 0.018900\n",
            "\u001b[0m\n",
            "it 34/100, Jtr_KL = 10.828183, Jtr_pred = 0.077726, err = 0.022467, \u001b[31m   time: 31.222015 seconds\n",
            "\u001b[0m\n",
            "\u001b[32m    Jdev = 0.070634, err = 0.018600\n",
            "\u001b[0m\n",
            "it 35/100, Jtr_KL = 10.820701, Jtr_pred = 0.075556, err = 0.023067, \u001b[31m   time: 31.076359 seconds\n",
            "\u001b[0m\n",
            "\u001b[32m    Jdev = 0.069142, err = 0.018700\n",
            "\u001b[0m\n",
            "it 36/100, Jtr_KL = 10.812544, Jtr_pred = 0.075429, err = 0.024367, \u001b[31m   time: 31.134650 seconds\n",
            "\u001b[0m\n",
            "\u001b[32m    Jdev = 0.071774, err = 0.018500\n",
            "\u001b[0m\n",
            "it 37/100, Jtr_KL = 10.805061, Jtr_pred = 0.073830, err = 0.021900, \u001b[31m   time: 31.243255 seconds\n",
            "\u001b[0m\n",
            "\u001b[32m    Jdev = 0.069924, err = 0.018600\n",
            "\u001b[0m\n",
            "it 38/100, Jtr_KL = 10.797588, Jtr_pred = 0.073280, err = 0.021433, \u001b[31m   time: 31.191305 seconds\n",
            "\u001b[0m\n",
            "\u001b[32m    Jdev = 0.071160, err = 0.018800\n",
            "\u001b[0m\n",
            "it 39/100, Jtr_KL = 10.789582, Jtr_pred = 0.071317, err = 0.022183, \u001b[31m   time: 31.204792 seconds\n",
            "\u001b[0m\n",
            "\u001b[32m    Jdev = 0.068714, err = 0.018200\n",
            "\u001b[0m\n",
            "it 40/100, Jtr_KL = 10.782214, Jtr_pred = 0.069689, err = 0.022250, \u001b[31m   time: 31.250674 seconds\n",
            "\u001b[0m\n",
            "\u001b[32m    Jdev = 0.070610, err = 0.017800\n",
            "\u001b[0m\n",
            "it 41/100, Jtr_KL = 10.773838, Jtr_pred = 0.067387, err = 0.020833, \u001b[31m   time: 31.082679 seconds\n",
            "\u001b[0m\n",
            "\u001b[32m    Jdev = 0.070722, err = 0.018700\n",
            "\u001b[0m\n",
            "it 42/100, Jtr_KL = 10.766415, Jtr_pred = 0.068188, err = 0.020550, \u001b[31m   time: 31.106851 seconds\n",
            "\u001b[0m\n",
            "\u001b[32m    Jdev = 0.068506, err = 0.017700\n",
            "\u001b[0m\n",
            "it 43/100, Jtr_KL = 10.758926, Jtr_pred = 0.066671, err = 0.020317, \u001b[31m   time: 31.090608 seconds\n",
            "\u001b[0m\n",
            "\u001b[32m    Jdev = 0.070337, err = 0.018900\n",
            "\u001b[0m\n",
            "it 44/100, Jtr_KL = 10.750920, Jtr_pred = 0.066198, err = 0.020167, \u001b[31m   time: 31.068906 seconds\n",
            "\u001b[0m\n",
            "\u001b[32m    Jdev = 0.067477, err = 0.018100\n",
            "\u001b[0m\n",
            "it 45/100, Jtr_KL = 10.743494, Jtr_pred = 0.063465, err = 0.020067, \u001b[31m   time: 31.198556 seconds\n",
            "\u001b[0m\n",
            "\u001b[32m    Jdev = 0.068495, err = 0.018100\n",
            "\u001b[0m\n",
            "it 46/100, Jtr_KL = 10.735526, Jtr_pred = 0.064890, err = 0.020100, \u001b[31m   time: 31.505543 seconds\n",
            "\u001b[0m\n",
            "\u001b[32m    Jdev = 0.067722, err = 0.018300\n",
            "\u001b[0m\n",
            "it 47/100, Jtr_KL = 10.727845, Jtr_pred = 0.064334, err = 0.020200, \u001b[31m   time: 31.193488 seconds\n",
            "\u001b[0m\n",
            "\u001b[32m    Jdev = 0.070281, err = 0.018600\n",
            "\u001b[0m\n",
            "it 48/100, Jtr_KL = 10.720303, Jtr_pred = 0.062787, err = 0.018467, \u001b[31m   time: 31.304299 seconds\n",
            "\u001b[0m\n",
            "\u001b[32m    Jdev = 0.070105, err = 0.017800\n",
            "\u001b[0m\n",
            "it 49/100, Jtr_KL = 10.712255, Jtr_pred = 0.061579, err = 0.018533, \u001b[31m   time: 31.269334 seconds\n",
            "\u001b[0m\n",
            "\u001b[32m    Jdev = 0.066106, err = 0.016700\n",
            "\u001b[0m\n",
            "it 50/100, Jtr_KL = 10.704665, Jtr_pred = 0.059725, err = 0.017917, \u001b[31m   time: 31.186824 seconds\n",
            "\u001b[0m\n",
            "\u001b[32m    Jdev = 0.067317, err = 0.017400\n",
            "\u001b[0m\n",
            "it 51/100, Jtr_KL = 10.697069, Jtr_pred = 0.058720, err = 0.018017, \u001b[31m   time: 31.363923 seconds\n",
            "\u001b[0m\n",
            "\u001b[32m    Jdev = 0.067442, err = 0.016800\n",
            "\u001b[0m\n",
            "it 52/100, Jtr_KL = 10.689744, Jtr_pred = 0.058454, err = 0.018033, \u001b[31m   time: 31.203228 seconds\n",
            "\u001b[0m\n",
            "\u001b[32m    Jdev = 0.067653, err = 0.017300\n",
            "\u001b[0m\n",
            "it 53/100, Jtr_KL = 10.681924, Jtr_pred = 0.058455, err = 0.017950, \u001b[31m   time: 31.031705 seconds\n",
            "\u001b[0m\n",
            "\u001b[32m    Jdev = 0.070665, err = 0.017300\n",
            "\u001b[0m\n",
            "it 54/100, Jtr_KL = 10.674140, Jtr_pred = 0.057700, err = 0.017400, \u001b[31m   time: 31.068012 seconds\n",
            "\u001b[0m\n",
            "\u001b[32m    Jdev = 0.068305, err = 0.016200\n",
            "\u001b[0m\n",
            "it 55/100, Jtr_KL = 10.666769, Jtr_pred = 0.056939, err = 0.018167, \u001b[31m   time: 31.080238 seconds\n",
            "\u001b[0m\n",
            "\u001b[32m    Jdev = 0.069133, err = 0.018000\n",
            "\u001b[0m\n",
            "it 56/100, Jtr_KL = 10.658954, Jtr_pred = 0.056221, err = 0.017150, \u001b[31m   time: 31.073549 seconds\n",
            "\u001b[0m\n",
            "\u001b[32m    Jdev = 0.066655, err = 0.016500\n",
            "\u001b[0m\n",
            "it 57/100, Jtr_KL = 10.651369, Jtr_pred = 0.054064, err = 0.017450, \u001b[31m   time: 31.202544 seconds\n",
            "\u001b[0m\n",
            "\u001b[32m    Jdev = 0.069046, err = 0.016100\n",
            "\u001b[0m\n",
            "it 58/100, Jtr_KL = 10.643776, Jtr_pred = 0.054780, err = 0.016667, \u001b[31m   time: 31.064372 seconds\n",
            "\u001b[0m\n",
            "\u001b[32m    Jdev = 0.068884, err = 0.016700\n",
            "\u001b[0m\n",
            "it 59/100, Jtr_KL = 10.636407, Jtr_pred = 0.053484, err = 0.016517, \u001b[31m   time: 30.845379 seconds\n",
            "\u001b[0m\n",
            "\u001b[32m    Jdev = 0.068579, err = 0.016700\n",
            "\u001b[0m\n",
            "it 60/100, Jtr_KL = 10.628856, Jtr_pred = 0.053129, err = 0.016433, \u001b[31m   time: 31.040154 seconds\n",
            "\u001b[0m\n",
            "\u001b[32m    Jdev = 0.067380, err = 0.016300\n",
            "\u001b[0m\n",
            "it 61/100, Jtr_KL = 10.621040, Jtr_pred = 0.052571, err = 0.016550, \u001b[31m   time: 30.953000 seconds\n",
            "\u001b[0m\n",
            "\u001b[32m    Jdev = 0.067834, err = 0.016200\n",
            "\u001b[0m\n",
            "it 62/100, Jtr_KL = 10.613975, Jtr_pred = 0.053887, err = 0.016133, \u001b[31m   time: 31.009326 seconds\n",
            "\u001b[0m\n",
            "\u001b[32m    Jdev = 0.068143, err = 0.016500\n",
            "\u001b[0m\n",
            "it 63/100, Jtr_KL = 10.605874, Jtr_pred = 0.052812, err = 0.016333, \u001b[31m   time: 30.976777 seconds\n",
            "\u001b[0m\n",
            "\u001b[32m    Jdev = 0.069690, err = 0.017000\n",
            "\u001b[0m\n",
            "it 64/100, Jtr_KL = 10.598365, Jtr_pred = 0.051288, err = 0.015550, \u001b[31m   time: 31.114046 seconds\n",
            "\u001b[0m\n",
            "\u001b[32m    Jdev = 0.067994, err = 0.016600\n",
            "\u001b[0m\n",
            "it 65/100, Jtr_KL = 10.590742, Jtr_pred = 0.050845, err = 0.015317, \u001b[31m   time: 31.214865 seconds\n",
            "\u001b[0m\n",
            "\u001b[32m    Jdev = 0.069337, err = 0.016700\n",
            "\u001b[0m\n",
            "it 66/100, Jtr_KL = 10.583261, Jtr_pred = 0.050261, err = 0.015383, \u001b[31m   time: 31.088038 seconds\n",
            "\u001b[0m\n",
            "\u001b[32m    Jdev = 0.066516, err = 0.015900\n",
            "\u001b[0m\n",
            "it 67/100, Jtr_KL = 10.575525, Jtr_pred = 0.048780, err = 0.014650, \u001b[31m   time: 31.036906 seconds\n",
            "\u001b[0m\n",
            "\u001b[32m    Jdev = 0.066325, err = 0.016800\n",
            "\u001b[0m\n",
            "it 68/100, Jtr_KL = 10.568391, Jtr_pred = 0.049501, err = 0.015383, \u001b[31m   time: 30.930282 seconds\n",
            "\u001b[0m\n",
            "\u001b[32m    Jdev = 0.068549, err = 0.015800\n",
            "\u001b[0m\n",
            "it 69/100, Jtr_KL = 10.560995, Jtr_pred = 0.048724, err = 0.014483, \u001b[31m   time: 31.051502 seconds\n",
            "\u001b[0m\n",
            "\u001b[32m    Jdev = 0.068965, err = 0.016800\n",
            "\u001b[0m\n",
            "it 70/100, Jtr_KL = 10.553562, Jtr_pred = 0.048145, err = 0.014783, \u001b[31m   time: 31.129305 seconds\n",
            "\u001b[0m\n",
            "\u001b[32m    Jdev = 0.070245, err = 0.015400\n",
            "\u001b[0m\n",
            "it 71/100, Jtr_KL = 10.546060, Jtr_pred = 0.048425, err = 0.015117, \u001b[31m   time: 30.780700 seconds\n",
            "\u001b[0m\n",
            "\u001b[32m    Jdev = 0.069252, err = 0.015800\n",
            "\u001b[0m\n",
            "it 72/100, Jtr_KL = 10.538036, Jtr_pred = 0.047365, err = 0.015283, \u001b[31m   time: 30.893604 seconds\n",
            "\u001b[0m\n",
            "\u001b[32m    Jdev = 0.069459, err = 0.016200\n",
            "\u001b[0m\n",
            "it 73/100, Jtr_KL = 10.530812, Jtr_pred = 0.047740, err = 0.014833, \u001b[31m   time: 30.892484 seconds\n",
            "\u001b[0m\n",
            "\u001b[32m    Jdev = 0.068898, err = 0.014800\n",
            "\u001b[0m\n",
            "it 74/100, Jtr_KL = 10.522714, Jtr_pred = 0.046691, err = 0.014617, \u001b[31m   time: 31.019726 seconds\n",
            "\u001b[0m\n",
            "\u001b[32m    Jdev = 0.069636, err = 0.015000\n",
            "\u001b[0m\n",
            "it 75/100, Jtr_KL = 10.515179, Jtr_pred = 0.049390, err = 0.014117, \u001b[31m   time: 30.939444 seconds\n",
            "\u001b[0m\n",
            "\u001b[32m    Jdev = 0.069868, err = 0.016800\n",
            "\u001b[0m\n",
            "it 76/100, Jtr_KL = 10.508379, Jtr_pred = 0.047056, err = 0.014933, \u001b[31m   time: 31.086975 seconds\n",
            "\u001b[0m\n",
            "\u001b[32m    Jdev = 0.068891, err = 0.016200\n",
            "\u001b[0m\n",
            "it 77/100, Jtr_KL = 10.500489, Jtr_pred = 0.045840, err = 0.014067, \u001b[31m   time: 31.000275 seconds\n",
            "\u001b[0m\n",
            "\u001b[32m    Jdev = 0.068607, err = 0.015600\n",
            "\u001b[0m\n",
            "it 78/100, Jtr_KL = 10.493160, Jtr_pred = 0.045111, err = 0.013767, \u001b[31m   time: 30.900056 seconds\n",
            "\u001b[0m\n",
            "\u001b[32m    Jdev = 0.067691, err = 0.015600\n",
            "\u001b[0m\n",
            "it 79/100, Jtr_KL = 10.485785, Jtr_pred = 0.045768, err = 0.014250, \u001b[31m   time: 30.919079 seconds\n",
            "\u001b[0m\n",
            "\u001b[32m    Jdev = 0.068498, err = 0.016200\n",
            "\u001b[0m\n",
            "it 80/100, Jtr_KL = 10.478507, Jtr_pred = 0.043153, err = 0.013400, \u001b[31m   time: 30.883101 seconds\n",
            "\u001b[0m\n",
            "\u001b[32m    Jdev = 0.069369, err = 0.015800\n",
            "\u001b[0m\n",
            "it 81/100, Jtr_KL = 10.470844, Jtr_pred = 0.044630, err = 0.013400, \u001b[31m   time: 30.949302 seconds\n",
            "\u001b[0m\n",
            "\u001b[32m    Jdev = 0.069924, err = 0.015000\n",
            "\u001b[0m\n",
            "it 82/100, Jtr_KL = 10.463392, Jtr_pred = 0.045773, err = 0.014000, \u001b[31m   time: 30.872614 seconds\n",
            "\u001b[0m\n",
            "\u001b[32m    Jdev = 0.068956, err = 0.016100\n",
            "\u001b[0m\n",
            "it 83/100, Jtr_KL = 10.455680, Jtr_pred = 0.043209, err = 0.013783, \u001b[31m   time: 31.029034 seconds\n",
            "\u001b[0m\n",
            "\u001b[32m    Jdev = 0.070216, err = 0.016200\n",
            "\u001b[0m\n",
            "it 84/100, Jtr_KL = 10.448350, Jtr_pred = 0.042736, err = 0.012650, \u001b[31m   time: 31.112946 seconds\n",
            "\u001b[0m\n",
            "\u001b[32m    Jdev = 0.065884, err = 0.015200\n",
            "\u001b[0m\n",
            "it 85/100, Jtr_KL = 10.441329, Jtr_pred = 0.044985, err = 0.013650, \u001b[31m   time: 31.049189 seconds\n",
            "\u001b[0m\n",
            "\u001b[32m    Jdev = 0.068331, err = 0.015300\n",
            "\u001b[0m\n",
            "it 86/100, Jtr_KL = 10.433658, Jtr_pred = 0.041576, err = 0.013683, \u001b[31m   time: 30.994079 seconds\n",
            "\u001b[0m\n",
            "\u001b[32m    Jdev = 0.070373, err = 0.015800\n",
            "\u001b[0m\n",
            "it 87/100, Jtr_KL = 10.425959, Jtr_pred = 0.042680, err = 0.013233, \u001b[31m   time: 30.949860 seconds\n",
            "\u001b[0m\n",
            "\u001b[32m    Jdev = 0.070028, err = 0.015500\n",
            "\u001b[0m\n",
            "it 88/100, Jtr_KL = 10.418761, Jtr_pred = 0.041755, err = 0.013033, \u001b[31m   time: 31.023240 seconds\n",
            "\u001b[0m\n",
            "\u001b[32m    Jdev = 0.070416, err = 0.015300\n",
            "\u001b[0m\n",
            "it 89/100, Jtr_KL = 10.411282, Jtr_pred = 0.040250, err = 0.013150, \u001b[31m   time: 30.982298 seconds\n",
            "\u001b[0m\n",
            "\u001b[32m    Jdev = 0.068745, err = 0.015800\n",
            "\u001b[0m\n",
            "it 90/100, Jtr_KL = 10.403936, Jtr_pred = 0.041747, err = 0.013917, \u001b[31m   time: 30.973559 seconds\n",
            "\u001b[0m\n",
            "\u001b[32m    Jdev = 0.069857, err = 0.015800\n",
            "\u001b[0m\n",
            "it 91/100, Jtr_KL = 10.397108, Jtr_pred = 0.042296, err = 0.012550, \u001b[31m   time: 31.135344 seconds\n",
            "\u001b[0m\n",
            "\u001b[32m    Jdev = 0.069616, err = 0.015200\n",
            "\u001b[0m\n",
            "it 92/100, Jtr_KL = 10.389676, Jtr_pred = 0.040019, err = 0.012367, \u001b[31m   time: 31.523345 seconds\n",
            "\u001b[0m\n",
            "\u001b[32m    Jdev = 0.068510, err = 0.015100\n",
            "\u001b[0m\n",
            "it 93/100, Jtr_KL = 10.381630, Jtr_pred = 0.041968, err = 0.013150, \u001b[31m   time: 31.319065 seconds\n",
            "\u001b[0m\n",
            "\u001b[32m    Jdev = 0.068909, err = 0.015000\n",
            "\u001b[0m\n",
            "it 94/100, Jtr_KL = 10.374634, Jtr_pred = 0.040400, err = 0.013000, \u001b[31m   time: 31.372485 seconds\n",
            "\u001b[0m\n",
            "\u001b[32m    Jdev = 0.069364, err = 0.015000\n",
            "\u001b[0m\n",
            "it 95/100, Jtr_KL = 10.366898, Jtr_pred = 0.041293, err = 0.012717, \u001b[31m   time: 31.316434 seconds\n",
            "\u001b[0m\n",
            "\u001b[32m    Jdev = 0.070212, err = 0.015700\n",
            "\u001b[0m\n",
            "it 96/100, Jtr_KL = 10.359752, Jtr_pred = 0.040124, err = 0.012667, \u001b[31m   time: 31.186347 seconds\n",
            "\u001b[0m\n",
            "\u001b[32m    Jdev = 0.068343, err = 0.015000\n",
            "\u001b[0m\n",
            "it 97/100, Jtr_KL = 10.352428, Jtr_pred = 0.039483, err = 0.013017, \u001b[31m   time: 31.214013 seconds\n",
            "\u001b[0m\n",
            "\u001b[32m    Jdev = 0.069085, err = 0.014900\n",
            "\u001b[0m\n",
            "it 98/100, Jtr_KL = 10.344852, Jtr_pred = 0.038226, err = 0.012433, \u001b[31m   time: 31.315853 seconds\n",
            "\u001b[0m\n",
            "\u001b[32m    Jdev = 0.070422, err = 0.015800\n",
            "\u001b[0m\n",
            "it 99/100, Jtr_KL = 10.337449, Jtr_pred = 0.039129, err = 0.012167, \u001b[31m   time: 31.220793 seconds\n",
            "\u001b[0m\n",
            "\u001b[32m    Jdev = 0.070328, err = 0.015600\n",
            "\u001b[0m\n",
            "\u001b[31m   average time: 32.967322 seconds\n",
            "\u001b[0m\n",
            "\u001b[36mWritting models_weight_uncertainty_MC_MNIST_gaussian/theta_last.dat\n",
            "\u001b[0m\n",
            "\u001b[36m\n",
            "RESULTS:\u001b[0m\n",
            "  cost_dev: 0.065884 (cost_train 0.038226)\n",
            "  err_dev: 0.014800\n",
            "  nb_parameters: 956820 (934.39KB)\n",
            "  time_per_it: 32.967322s\n",
            "\n"
          ],
          "name": "stdout"
        },
        {
          "output_type": "stream",
          "text": [
            "/usr/local/lib/python3.6/dist-packages/torch/serialization.py:292: UserWarning: Couldn't retrieve source code for container of type bayes_linear_2L. It won't be checked for correctness upon loading.\n",
            "  \"type \" + obj.__name__ + \". It won't be checked \"\n",
            "/usr/local/lib/python3.6/dist-packages/torch/serialization.py:292: UserWarning: Couldn't retrieve source code for container of type BayesLinear_Normalq. It won't be checked for correctness upon loading.\n",
            "  \"type \" + obj.__name__ + \". It won't be checked \"\n",
            "/usr/local/lib/python3.6/dist-packages/torch/serialization.py:292: UserWarning: Couldn't retrieve source code for container of type ReLU. It won't be checked for correctness upon loading.\n",
            "  \"type \" + obj.__name__ + \". It won't be checked \"\n"
          ],
          "name": "stderr"
        },
        {
          "output_type": "display_data",
          "data": {
            "text/plain": [
              "<Figure size 600x400 with 0 Axes>"
            ]
          },
          "metadata": {
            "tags": []
          }
        },
        {
          "output_type": "display_data",
          "data": {
            "image/png": "[encoded data removed]",
            "text/plain": [
              "<Figure size 432x288 with 1 Axes>"
            ]
          },
          "metadata": {
            "tags": []
          }
        },
        {
          "output_type": "display_data",
          "data": {
            "text/plain": [
              "<Figure size 432x288 with 0 Axes>"
            ]
          },
          "metadata": {
            "tags": []
          }
        },
        {
          "output_type": "display_data",
          "data": {
            "image/png": "[encoded data removed]",
            "text/plain": [
              "<Figure size 432x288 with 1 Axes>"
            ]
          },
          "metadata": {
            "tags": []
          }
        },
        {
          "output_type": "display_data",
          "data": {
            "text/plain": [
              "<Figure size 600x400 with 0 Axes>"
            ]
          },
          "metadata": {
            "tags": []
          }
        },
        {
          "output_type": "display_data",
          "data": {
            "image/png": "[encoded data removed]",
            "text/plain": [
              "<Figure size 432x288 with 1 Axes>"
            ]
          },
          "metadata": {
            "tags": []
          }
        }
      ]
    },
    {
      "cell_type": "code",
      "metadata": {
        "id": "ShZS6rc8MFtE",
        "colab_type": "code",
        "outputId": "9c7a4b2f-d73a-4bff-e095-ccbc77cdc83f",
        "colab": {
          "base_uri": "https://localhost:8080/",
          "height": 34
        }
      },
      "source": [
        "len(trainset)"
      ],
      "execution_count": 0,
      "outputs": [
        {
          "output_type": "execute_result",
          "data": {
            "text/plain": [
              "60000"
            ]
          },
          "metadata": {
            "tags": []
          },
          "execution_count": 29
        }
      ]
    },
    {
      "cell_type": "code",
      "metadata": {
        "id": "JYgJ-xfgMbE-",
        "colab_type": "code",
        "outputId": "ea2e5f9e-a256-422c-9958-efee2ecf388d",
        "colab": {
          "base_uri": "https://localhost:8080/",
          "height": 102
        }
      },
      "source": [
        "pip install mnist"
      ],
      "execution_count": 0,
      "outputs": [
        {
          "output_type": "stream",
          "text": [
            "Collecting mnist\n",
            "  Downloading https://files.pythonhosted.org/packages/c6/c4/5db3bfe009f8d71f1d532bbadbd0ec203764bba3a469e4703a889db8e5e0/mnist-0.2.2-py2.py3-none-any.whl\n",
            "Requirement already satisfied: numpy in /usr/local/lib/python3.6/dist-packages (from mnist) (1.17.4)\n",
            "Installing collected packages: mnist\n",
            "Successfully installed mnist-0.2.2\n"
          ],
          "name": "stdout"
        }
      ]
    },
    {
      "cell_type": "code",
      "metadata": {
        "id": "v_hs9R3EGMcS",
        "colab_type": "code",
        "outputId": "ee2649b6-9855-42dd-8463-52507198ac8b",
        "colab": {
          "base_uri": "https://localhost:8080/",
          "height": 476
        }
      },
      "source": [
        "from keras.optimizers import SGD\n",
        "import numpy as np\n",
        "import mnist\n",
        "from keras.models import Sequential\n",
        "from keras.layers import Dense\n",
        "from keras.utils import to_categorical\n",
        "\n",
        "train_images = mnist.train_images()\n",
        "train_labels = mnist.train_labels()\n",
        "test_images = mnist.test_images()\n",
        "test_labels = mnist.test_labels()\n",
        "\n",
        "# Normalize the images.\n",
        "train_images = (train_images / 126) - 0.5\n",
        "test_images = (test_images / 126) - 0.5\n",
        "\n",
        "# Flatten the images.\n",
        "train_images = train_images.reshape((-1, 784))\n",
        "test_images = test_images.reshape((-1, 784))\n",
        "\n",
        "baseline_model = Sequential([\n",
        "  Dense(400, activation='relu', input_shape=(784,)),\n",
        "  Dense(400, activation='relu'),  \n",
        "  Dense(10, activation='softmax'),\n",
        "])\n",
        "\n",
        "baseline_model.compile(optimizer=SGD(lr=0.001),\n",
        "                       loss='binary_crossentropy',\n",
        "                       metrics=['accuracy'])\n",
        "\n",
        "baseline_model.summary()"
      ],
      "execution_count": 0,
      "outputs": [
        {
          "output_type": "stream",
          "text": [
            "WARNING:tensorflow:From /usr/local/lib/python3.6/dist-packages/keras/backend/tensorflow_backend.py:66: The name tf.get_default_graph is deprecated. Please use tf.compat.v1.get_default_graph instead.\n",
            "\n",
            "WARNING:tensorflow:From /usr/local/lib/python3.6/dist-packages/keras/backend/tensorflow_backend.py:541: The name tf.placeholder is deprecated. Please use tf.compat.v1.placeholder instead.\n",
            "\n",
            "WARNING:tensorflow:From /usr/local/lib/python3.6/dist-packages/keras/backend/tensorflow_backend.py:4432: The name tf.random_uniform is deprecated. Please use tf.random.uniform instead.\n",
            "\n",
            "WARNING:tensorflow:From /usr/local/lib/python3.6/dist-packages/keras/optimizers.py:793: The name tf.train.Optimizer is deprecated. Please use tf.compat.v1.train.Optimizer instead.\n",
            "\n",
            "WARNING:tensorflow:From /usr/local/lib/python3.6/dist-packages/keras/backend/tensorflow_backend.py:3657: The name tf.log is deprecated. Please use tf.math.log instead.\n",
            "\n",
            "WARNING:tensorflow:From /usr/local/lib/python3.6/dist-packages/tensorflow_core/python/ops/nn_impl.py:183: where (from tensorflow.python.ops.array_ops) is deprecated and will be removed in a future version.\n",
            "Instructions for updating:\n",
            "Use tf.where in 2.0, which has the same broadcast rule as np.where\n",
            "Model: \"sequential_1\"\n",
            "_________________________________________________________________\n",
            "Layer (type)                 Output Shape              Param #   \n",
            "=================================================================\n",
            "dense_1 (Dense)              (None, 400)               314000    \n",
            "_________________________________________________________________\n",
            "dense_2 (Dense)              (None, 400)               160400    \n",
            "_________________________________________________________________\n",
            "dense_3 (Dense)              (None, 10)                4010      \n",
            "=================================================================\n",
            "Total params: 478,410\n",
            "Trainable params: 478,410\n",
            "Non-trainable params: 0\n",
            "_________________________________________________________________\n"
          ],
          "name": "stdout"
        }
      ]
    },
    {
      "cell_type": "code",
      "metadata": {
        "id": "bolwVfefMlzR",
        "colab_type": "code",
        "outputId": "ea1292a6-e9e7-413a-ce67-6690d5534ede",
        "colab": {
          "base_uri": "https://localhost:8080/",
          "height": 1000
        }
      },
      "source": [
        "baseline_history = baseline_model.fit(train_images,\n",
        "                                      to_categorical(train_labels),\n",
        "                                      epochs=100,\n",
        "                                      batch_size=128,\n",
        "                                      validation_data=(test_images,\n",
        "                                                      to_categorical(test_labels)))\n"
      ],
      "execution_count": 0,
      "outputs": [
        {
          "output_type": "stream",
          "text": [
            "WARNING:tensorflow:From /usr/local/lib/python3.6/dist-packages/keras/backend/tensorflow_backend.py:1033: The name tf.assign_add is deprecated. Please use tf.compat.v1.assign_add instead.\n",
            "\n",
            "WARNING:tensorflow:From /usr/local/lib/python3.6/dist-packages/keras/backend/tensorflow_backend.py:1020: The name tf.assign is deprecated. Please use tf.compat.v1.assign instead.\n",
            "\n",
            "WARNING:tensorflow:From /usr/local/lib/python3.6/dist-packages/keras/backend/tensorflow_backend.py:3005: The name tf.Session is deprecated. Please use tf.compat.v1.Session instead.\n",
            "\n",
            "Train on 60000 samples, validate on 10000 samples\n",
            "Epoch 1/100\n",
            "WARNING:tensorflow:From /usr/local/lib/python3.6/dist-packages/keras/backend/tensorflow_backend.py:190: The name tf.get_default_session is deprecated. Please use tf.compat.v1.get_default_session instead.\n",
            "\n",
            "WARNING:tensorflow:From /usr/local/lib/python3.6/dist-packages/keras/backend/tensorflow_backend.py:197: The name tf.ConfigProto is deprecated. Please use tf.compat.v1.ConfigProto instead.\n",
            "\n",
            "WARNING:tensorflow:From /usr/local/lib/python3.6/dist-packages/keras/backend/tensorflow_backend.py:207: The name tf.global_variables is deprecated. Please use tf.compat.v1.global_variables instead.\n",
            "\n",
            "WARNING:tensorflow:From /usr/local/lib/python3.6/dist-packages/keras/backend/tensorflow_backend.py:216: The name tf.is_variable_initialized is deprecated. Please use tf.compat.v1.is_variable_initialized instead.\n",
            "\n",
            "WARNING:tensorflow:From /usr/local/lib/python3.6/dist-packages/keras/backend/tensorflow_backend.py:223: The name tf.variables_initializer is deprecated. Please use tf.compat.v1.variables_initializer instead.\n",
            "\n",
            "60000/60000 [==============================] - 6s 107us/step - loss: 0.3256 - acc: 0.9000 - val_loss: 0.3151 - val_acc: 0.9000\n",
            "Epoch 2/100\n",
            "60000/60000 [==============================] - 3s 43us/step - loss: 0.3067 - acc: 0.9000 - val_loss: 0.2976 - val_acc: 0.9000\n",
            "Epoch 3/100\n",
            "60000/60000 [==============================] - 3s 44us/step - loss: 0.2907 - acc: 0.9000 - val_loss: 0.2818 - val_acc: 0.9000\n",
            "Epoch 4/100\n",
            "60000/60000 [==============================] - 3s 44us/step - loss: 0.2757 - acc: 0.9000 - val_loss: 0.2668 - val_acc: 0.9002\n",
            "Epoch 5/100\n",
            "60000/60000 [==============================] - 3s 46us/step - loss: 0.2613 - acc: 0.9005 - val_loss: 0.2523 - val_acc: 0.9010\n",
            "Epoch 6/100\n",
            "60000/60000 [==============================] - 3s 45us/step - loss: 0.2474 - acc: 0.9020 - val_loss: 0.2382 - val_acc: 0.9037\n",
            "Epoch 7/100\n",
            "60000/60000 [==============================] - 3s 43us/step - loss: 0.2338 - acc: 0.9059 - val_loss: 0.2247 - val_acc: 0.9083\n",
            "Epoch 8/100\n",
            "60000/60000 [==============================] - 3s 43us/step - loss: 0.2208 - acc: 0.9107 - val_loss: 0.2117 - val_acc: 0.9136\n",
            "Epoch 9/100\n",
            "60000/60000 [==============================] - 3s 43us/step - loss: 0.2084 - acc: 0.9155 - val_loss: 0.1996 - val_acc: 0.9188\n",
            "Epoch 10/100\n",
            "60000/60000 [==============================] - 3s 43us/step - loss: 0.1968 - acc: 0.9205 - val_loss: 0.1882 - val_acc: 0.9240\n",
            "Epoch 11/100\n",
            "60000/60000 [==============================] - 3s 42us/step - loss: 0.1861 - acc: 0.9255 - val_loss: 0.1777 - val_acc: 0.9290\n",
            "Epoch 12/100\n",
            "60000/60000 [==============================] - 3s 44us/step - loss: 0.1761 - acc: 0.9305 - val_loss: 0.1682 - val_acc: 0.9340\n",
            "Epoch 13/100\n",
            "60000/60000 [==============================] - 3s 43us/step - loss: 0.1671 - acc: 0.9351 - val_loss: 0.1595 - val_acc: 0.9384\n",
            "Epoch 14/100\n",
            "60000/60000 [==============================] - 3s 43us/step - loss: 0.1589 - acc: 0.9392 - val_loss: 0.1516 - val_acc: 0.9419\n",
            "Epoch 15/100\n",
            "60000/60000 [==============================] - 3s 43us/step - loss: 0.1514 - acc: 0.9430 - val_loss: 0.1445 - val_acc: 0.9452\n",
            "Epoch 16/100\n",
            "60000/60000 [==============================] - 3s 43us/step - loss: 0.1447 - acc: 0.9462 - val_loss: 0.1380 - val_acc: 0.9488\n",
            "Epoch 17/100\n",
            "60000/60000 [==============================] - 3s 42us/step - loss: 0.1386 - acc: 0.9493 - val_loss: 0.1322 - val_acc: 0.9520\n",
            "Epoch 18/100\n",
            "60000/60000 [==============================] - 3s 42us/step - loss: 0.1330 - acc: 0.9522 - val_loss: 0.1270 - val_acc: 0.9547\n",
            "Epoch 19/100\n",
            "60000/60000 [==============================] - 3s 43us/step - loss: 0.1280 - acc: 0.9545 - val_loss: 0.1222 - val_acc: 0.9571\n",
            "Epoch 20/100\n",
            "60000/60000 [==============================] - 3s 43us/step - loss: 0.1235 - acc: 0.9568 - val_loss: 0.1178 - val_acc: 0.9593\n",
            "Epoch 21/100\n",
            "60000/60000 [==============================] - 3s 43us/step - loss: 0.1193 - acc: 0.9588 - val_loss: 0.1139 - val_acc: 0.9613\n",
            "Epoch 22/100\n",
            "60000/60000 [==============================] - 3s 43us/step - loss: 0.1155 - acc: 0.9605 - val_loss: 0.1103 - val_acc: 0.9631\n",
            "Epoch 23/100\n",
            "60000/60000 [==============================] - 3s 43us/step - loss: 0.1120 - acc: 0.9622 - val_loss: 0.1070 - val_acc: 0.9647\n",
            "Epoch 24/100\n",
            "60000/60000 [==============================] - 3s 42us/step - loss: 0.1088 - acc: 0.9637 - val_loss: 0.1039 - val_acc: 0.9660\n",
            "Epoch 25/100\n",
            "60000/60000 [==============================] - 3s 43us/step - loss: 0.1059 - acc: 0.9649 - val_loss: 0.1011 - val_acc: 0.9672\n",
            "Epoch 26/100\n",
            "60000/60000 [==============================] - 3s 43us/step - loss: 0.1032 - acc: 0.9662 - val_loss: 0.0986 - val_acc: 0.9684\n",
            "Epoch 27/100\n",
            "60000/60000 [==============================] - 3s 43us/step - loss: 0.1007 - acc: 0.9672 - val_loss: 0.0962 - val_acc: 0.9694\n",
            "Epoch 28/100\n",
            "60000/60000 [==============================] - 3s 43us/step - loss: 0.0984 - acc: 0.9681 - val_loss: 0.0940 - val_acc: 0.9701\n",
            "Epoch 29/100\n",
            "60000/60000 [==============================] - 3s 42us/step - loss: 0.0963 - acc: 0.9689 - val_loss: 0.0920 - val_acc: 0.9709\n",
            "Epoch 30/100\n",
            "60000/60000 [==============================] - 3s 43us/step - loss: 0.0943 - acc: 0.9697 - val_loss: 0.0901 - val_acc: 0.9717\n",
            "Epoch 31/100\n",
            "60000/60000 [==============================] - 3s 43us/step - loss: 0.0924 - acc: 0.9704 - val_loss: 0.0883 - val_acc: 0.9723\n",
            "Epoch 32/100\n",
            "60000/60000 [==============================] - 3s 43us/step - loss: 0.0907 - acc: 0.9710 - val_loss: 0.0866 - val_acc: 0.9730\n",
            "Epoch 33/100\n",
            "60000/60000 [==============================] - 3s 43us/step - loss: 0.0891 - acc: 0.9716 - val_loss: 0.0851 - val_acc: 0.9735\n",
            "Epoch 34/100\n",
            "60000/60000 [==============================] - 3s 42us/step - loss: 0.0875 - acc: 0.9722 - val_loss: 0.0836 - val_acc: 0.9739\n",
            "Epoch 35/100\n",
            "60000/60000 [==============================] - 3s 43us/step - loss: 0.0861 - acc: 0.9727 - val_loss: 0.0823 - val_acc: 0.9743\n",
            "Epoch 36/100\n",
            "60000/60000 [==============================] - 3s 44us/step - loss: 0.0848 - acc: 0.9732 - val_loss: 0.0810 - val_acc: 0.9748\n",
            "Epoch 37/100\n",
            "60000/60000 [==============================] - 3s 42us/step - loss: 0.0835 - acc: 0.9736 - val_loss: 0.0798 - val_acc: 0.9751\n",
            "Epoch 38/100\n",
            "60000/60000 [==============================] - 3s 43us/step - loss: 0.0823 - acc: 0.9740 - val_loss: 0.0786 - val_acc: 0.9754\n",
            "Epoch 39/100\n",
            "60000/60000 [==============================] - 3s 43us/step - loss: 0.0812 - acc: 0.9743 - val_loss: 0.0776 - val_acc: 0.9758\n",
            "Epoch 40/100\n",
            "60000/60000 [==============================] - 3s 43us/step - loss: 0.0801 - acc: 0.9746 - val_loss: 0.0765 - val_acc: 0.9759\n",
            "Epoch 41/100\n",
            "60000/60000 [==============================] - 3s 44us/step - loss: 0.0791 - acc: 0.9749 - val_loss: 0.0756 - val_acc: 0.9763\n",
            "Epoch 42/100\n",
            "60000/60000 [==============================] - 3s 43us/step - loss: 0.0781 - acc: 0.9752 - val_loss: 0.0747 - val_acc: 0.9765\n",
            "Epoch 43/100\n",
            "60000/60000 [==============================] - 3s 43us/step - loss: 0.0772 - acc: 0.9754 - val_loss: 0.0738 - val_acc: 0.9767\n",
            "Epoch 44/100\n",
            "60000/60000 [==============================] - 3s 43us/step - loss: 0.0763 - acc: 0.9756 - val_loss: 0.0730 - val_acc: 0.9770\n",
            "Epoch 45/100\n",
            "60000/60000 [==============================] - 3s 43us/step - loss: 0.0755 - acc: 0.9759 - val_loss: 0.0722 - val_acc: 0.9773\n",
            "Epoch 46/100\n",
            "60000/60000 [==============================] - 3s 43us/step - loss: 0.0747 - acc: 0.9761 - val_loss: 0.0714 - val_acc: 0.9776\n",
            "Epoch 47/100\n",
            "60000/60000 [==============================] - 3s 42us/step - loss: 0.0739 - acc: 0.9763 - val_loss: 0.0707 - val_acc: 0.9779\n",
            "Epoch 48/100\n",
            "60000/60000 [==============================] - 3s 43us/step - loss: 0.0732 - acc: 0.9765 - val_loss: 0.0700 - val_acc: 0.9782\n",
            "Epoch 49/100\n",
            "60000/60000 [==============================] - 3s 43us/step - loss: 0.0725 - acc: 0.9767 - val_loss: 0.0693 - val_acc: 0.9784\n",
            "Epoch 50/100\n",
            "60000/60000 [==============================] - 3s 42us/step - loss: 0.0718 - acc: 0.9769 - val_loss: 0.0687 - val_acc: 0.9784\n",
            "Epoch 51/100\n",
            "60000/60000 [==============================] - 3s 43us/step - loss: 0.0712 - acc: 0.9771 - val_loss: 0.0681 - val_acc: 0.9787\n",
            "Epoch 52/100\n",
            "60000/60000 [==============================] - 3s 43us/step - loss: 0.0706 - acc: 0.9772 - val_loss: 0.0675 - val_acc: 0.9789\n",
            "Epoch 53/100\n",
            "60000/60000 [==============================] - 3s 42us/step - loss: 0.0700 - acc: 0.9774 - val_loss: 0.0669 - val_acc: 0.9789\n",
            "Epoch 54/100\n",
            "60000/60000 [==============================] - 3s 44us/step - loss: 0.0694 - acc: 0.9776 - val_loss: 0.0664 - val_acc: 0.9791\n",
            "Epoch 55/100\n",
            "60000/60000 [==============================] - 3s 43us/step - loss: 0.0689 - acc: 0.9777 - val_loss: 0.0659 - val_acc: 0.9792\n",
            "Epoch 56/100\n",
            "60000/60000 [==============================] - 3s 42us/step - loss: 0.0683 - acc: 0.9779 - val_loss: 0.0654 - val_acc: 0.9794\n",
            "Epoch 57/100\n",
            "60000/60000 [==============================] - 3s 44us/step - loss: 0.0678 - acc: 0.9781 - val_loss: 0.0649 - val_acc: 0.9796\n",
            "Epoch 58/100\n",
            "60000/60000 [==============================] - 3s 43us/step - loss: 0.0673 - acc: 0.9782 - val_loss: 0.0644 - val_acc: 0.9798\n",
            "Epoch 59/100\n",
            "60000/60000 [==============================] - 3s 45us/step - loss: 0.0668 - acc: 0.9784 - val_loss: 0.0640 - val_acc: 0.9799\n",
            "Epoch 60/100\n",
            "60000/60000 [==============================] - 3s 42us/step - loss: 0.0664 - acc: 0.9785 - val_loss: 0.0635 - val_acc: 0.9800\n",
            "Epoch 61/100\n",
            "60000/60000 [==============================] - 3s 42us/step - loss: 0.0659 - acc: 0.9787 - val_loss: 0.0631 - val_acc: 0.9802\n",
            "Epoch 62/100\n",
            "60000/60000 [==============================] - 3s 43us/step - loss: 0.0655 - acc: 0.9788 - val_loss: 0.0627 - val_acc: 0.9803\n",
            "Epoch 63/100\n",
            "60000/60000 [==============================] - 3s 43us/step - loss: 0.0651 - acc: 0.9789 - val_loss: 0.0623 - val_acc: 0.9803\n",
            "Epoch 64/100\n",
            "60000/60000 [==============================] - 3s 43us/step - loss: 0.0647 - acc: 0.9790 - val_loss: 0.0619 - val_acc: 0.9804\n",
            "Epoch 65/100\n",
            "60000/60000 [==============================] - 3s 43us/step - loss: 0.0643 - acc: 0.9791 - val_loss: 0.0616 - val_acc: 0.9805\n",
            "Epoch 66/100\n",
            "60000/60000 [==============================] - 3s 43us/step - loss: 0.0639 - acc: 0.9792 - val_loss: 0.0612 - val_acc: 0.9806\n",
            "Epoch 67/100\n",
            "60000/60000 [==============================] - 3s 43us/step - loss: 0.0635 - acc: 0.9793 - val_loss: 0.0609 - val_acc: 0.9807\n",
            "Epoch 68/100\n",
            "60000/60000 [==============================] - 3s 43us/step - loss: 0.0632 - acc: 0.9795 - val_loss: 0.0605 - val_acc: 0.9808\n",
            "Epoch 69/100\n",
            "60000/60000 [==============================] - 3s 43us/step - loss: 0.0628 - acc: 0.9795 - val_loss: 0.0602 - val_acc: 0.9809\n",
            "Epoch 70/100\n",
            "60000/60000 [==============================] - 3s 42us/step - loss: 0.0625 - acc: 0.9797 - val_loss: 0.0599 - val_acc: 0.9810\n",
            "Epoch 71/100\n",
            "60000/60000 [==============================] - 3s 44us/step - loss: 0.0621 - acc: 0.9798 - val_loss: 0.0595 - val_acc: 0.9811\n",
            "Epoch 72/100\n",
            "60000/60000 [==============================] - 3s 43us/step - loss: 0.0618 - acc: 0.9799 - val_loss: 0.0592 - val_acc: 0.9812\n",
            "Epoch 73/100\n",
            "60000/60000 [==============================] - 3s 43us/step - loss: 0.0615 - acc: 0.9799 - val_loss: 0.0589 - val_acc: 0.9813\n",
            "Epoch 74/100\n",
            "60000/60000 [==============================] - 3s 42us/step - loss: 0.0612 - acc: 0.9800 - val_loss: 0.0586 - val_acc: 0.9813\n",
            "Epoch 75/100\n",
            "60000/60000 [==============================] - 3s 42us/step - loss: 0.0609 - acc: 0.9801 - val_loss: 0.0584 - val_acc: 0.9814\n",
            "Epoch 76/100\n",
            "60000/60000 [==============================] - 3s 43us/step - loss: 0.0606 - acc: 0.9802 - val_loss: 0.0581 - val_acc: 0.9815\n",
            "Epoch 77/100\n",
            "60000/60000 [==============================] - 3s 43us/step - loss: 0.0603 - acc: 0.9803 - val_loss: 0.0578 - val_acc: 0.9816\n",
            "Epoch 78/100\n",
            "60000/60000 [==============================] - 3s 42us/step - loss: 0.0600 - acc: 0.9804 - val_loss: 0.0575 - val_acc: 0.9817\n",
            "Epoch 79/100\n",
            "60000/60000 [==============================] - 3s 43us/step - loss: 0.0597 - acc: 0.9805 - val_loss: 0.0573 - val_acc: 0.9817\n",
            "Epoch 80/100\n",
            "60000/60000 [==============================] - 3s 43us/step - loss: 0.0595 - acc: 0.9805 - val_loss: 0.0570 - val_acc: 0.9818\n",
            "Epoch 81/100\n",
            "60000/60000 [==============================] - 3s 42us/step - loss: 0.0592 - acc: 0.9806 - val_loss: 0.0568 - val_acc: 0.9819\n",
            "Epoch 82/100\n",
            "60000/60000 [==============================] - 3s 42us/step - loss: 0.0590 - acc: 0.9807 - val_loss: 0.0565 - val_acc: 0.9819\n",
            "Epoch 83/100\n",
            "60000/60000 [==============================] - 3s 44us/step - loss: 0.0587 - acc: 0.9808 - val_loss: 0.0563 - val_acc: 0.9820\n",
            "Epoch 84/100\n",
            "60000/60000 [==============================] - 3s 43us/step - loss: 0.0585 - acc: 0.9809 - val_loss: 0.0561 - val_acc: 0.9820\n",
            "Epoch 85/100\n",
            "60000/60000 [==============================] - 3s 43us/step - loss: 0.0582 - acc: 0.9809 - val_loss: 0.0559 - val_acc: 0.9821\n",
            "Epoch 86/100\n",
            "60000/60000 [==============================] - 3s 43us/step - loss: 0.0580 - acc: 0.9810 - val_loss: 0.0556 - val_acc: 0.9821\n",
            "Epoch 87/100\n",
            "60000/60000 [==============================] - 3s 43us/step - loss: 0.0577 - acc: 0.9811 - val_loss: 0.0554 - val_acc: 0.9822\n",
            "Epoch 88/100\n",
            "60000/60000 [==============================] - 3s 44us/step - loss: 0.0575 - acc: 0.9811 - val_loss: 0.0552 - val_acc: 0.9822\n",
            "Epoch 89/100\n",
            "60000/60000 [==============================] - 3s 44us/step - loss: 0.0573 - acc: 0.9812 - val_loss: 0.0550 - val_acc: 0.9823\n",
            "Epoch 90/100\n",
            "60000/60000 [==============================] - 3s 42us/step - loss: 0.0571 - acc: 0.9813 - val_loss: 0.0548 - val_acc: 0.9824\n",
            "Epoch 91/100\n",
            "60000/60000 [==============================] - 3s 43us/step - loss: 0.0568 - acc: 0.9813 - val_loss: 0.0546 - val_acc: 0.9824\n",
            "Epoch 92/100\n",
            "60000/60000 [==============================] - 3s 43us/step - loss: 0.0566 - acc: 0.9814 - val_loss: 0.0544 - val_acc: 0.9825\n",
            "Epoch 93/100\n",
            "60000/60000 [==============================] - 3s 43us/step - loss: 0.0564 - acc: 0.9815 - val_loss: 0.0542 - val_acc: 0.9826\n",
            "Epoch 94/100\n",
            "60000/60000 [==============================] - 3s 43us/step - loss: 0.0562 - acc: 0.9816 - val_loss: 0.0540 - val_acc: 0.9826\n",
            "Epoch 95/100\n",
            "60000/60000 [==============================] - 3s 43us/step - loss: 0.0560 - acc: 0.9816 - val_loss: 0.0538 - val_acc: 0.9826\n",
            "Epoch 96/100\n",
            "60000/60000 [==============================] - 3s 43us/step - loss: 0.0558 - acc: 0.9817 - val_loss: 0.0536 - val_acc: 0.9827\n",
            "Epoch 97/100\n",
            "60000/60000 [==============================] - 3s 42us/step - loss: 0.0556 - acc: 0.9818 - val_loss: 0.0534 - val_acc: 0.9827\n",
            "Epoch 98/100\n",
            "60000/60000 [==============================] - 3s 43us/step - loss: 0.0554 - acc: 0.9819 - val_loss: 0.0532 - val_acc: 0.9828\n",
            "Epoch 99/100\n",
            "60000/60000 [==============================] - 3s 43us/step - loss: 0.0552 - acc: 0.9819 - val_loss: 0.0531 - val_acc: 0.9828\n",
            "Epoch 100/100\n",
            "60000/60000 [==============================] - 3s 42us/step - loss: 0.0550 - acc: 0.9820 - val_loss: 0.0529 - val_acc: 0.9829\n"
          ],
          "name": "stdout"
        }
      ]
    },
    {
      "cell_type": "code",
      "metadata": {
        "id": "ihahSkNGGPob",
        "colab_type": "code",
        "colab": {}
      },
      "source": [
        "from numpy  import array\n",
        "data_acc=baseline_history.history['val_acc']\n",
        "type(data_acc)\n",
        "a = array( data_acc )\n",
        "acc_sgd= 1-a"
      ],
      "execution_count": 0,
      "outputs": []
    },
    {
      "cell_type": "code",
      "metadata": {
        "id": "Fi5VYa0SOL-G",
        "colab_type": "code",
        "outputId": "c64559f2-9d06-41c9-a0fd-ff982d8e2a38",
        "colab": {
          "base_uri": "https://localhost:8080/",
          "height": 357
        }
      },
      "source": [
        "acc_sgd"
      ],
      "execution_count": 0,
      "outputs": [
        {
          "output_type": "execute_result",
          "data": {
            "text/plain": [
              "array([0.10000002, 0.10000002, 0.09999002, 0.09980002, 0.09896   ,\n",
              "       0.09629001, 0.09172002, 0.08644003, 0.08119004, 0.07600003,\n",
              "       0.07099003, 0.06602002, 0.06162001, 0.05807001, 0.05479001,\n",
              "       0.05117001, 0.04803001, 0.04533001, 0.04288001, 0.04065   ,\n",
              "       0.03865   , 0.03689   , 0.0353    , 0.034     , 0.03276   ,\n",
              "       0.03163   , 0.03062   , 0.02991   , 0.02911999, 0.02826   ,\n",
              "       0.02767999, 0.02696999, 0.02652   , 0.02606999, 0.02566999,\n",
              "       0.02520999, 0.02491999, 0.02455999, 0.02421999, 0.02407999,\n",
              "       0.02371   , 0.02354999, 0.02325999, 0.02300999, 0.02273999,\n",
              "       0.02243   , 0.02214   , 0.02184   , 0.02156999, 0.02156999,\n",
              "       0.02133999, 0.02115   , 0.02109999, 0.02090999, 0.02076   ,\n",
              "       0.02058   , 0.02045   , 0.02023   , 0.02012   , 0.01996   ,\n",
              "       0.01979   , 0.01974999, 0.01968   , 0.01959   , 0.01946   ,\n",
              "       0.01935   , 0.01929   , 0.01921   , 0.01914   , 0.01903   ,\n",
              "       0.01891   , 0.01883   , 0.01874   , 0.01868   , 0.01859   ,\n",
              "       0.01847   , 0.01839   , 0.01827   , 0.01827   , 0.01819   ,\n",
              "       0.01814   , 0.01808   , 0.01801999, 0.01798   , 0.01794   ,\n",
              "       0.01787   , 0.01785   , 0.01777   , 0.01769   , 0.01765   ,\n",
              "       0.01756   , 0.01752   , 0.01744   , 0.01738   , 0.01737   ,\n",
              "       0.01734   , 0.01726   , 0.01722   , 0.0172    , 0.01712   ])"
            ]
          },
          "metadata": {
            "tags": []
          },
          "execution_count": 37
        }
      ]
    },
    {
      "cell_type": "code",
      "metadata": {
        "id": "7lnBxKLQczIc",
        "colab_type": "code",
        "outputId": "62066d17-4be3-4c28-c17f-be3c2b842c8c",
        "colab": {
          "base_uri": "https://localhost:8080/",
          "height": 618
        }
      },
      "source": [
        "from pylab import rcParams\n",
        "rcParams['figure.figsize'] = 10, 10\n",
        "textsize = 15\n",
        "marker=20\n",
        "#plt.figure(dpi=100)\n",
        "fig2, ax2 = plt.subplots()\n",
        "ax2.set_ylabel('% error')\n",
        "ax2.semilogy(range(0, nb_epochs, nb_its_dev), 100 * err_dev[::nb_its_dev], 'b-')\n",
        "ax2.semilogy(100 * acc_sgd, 'r--')\n",
        "plt.xlabel('epoch')\n",
        "plt.grid(b=True, which='major', color='k', linestyle='-')\n",
        "plt.grid(b=True, which='minor', color='k', linestyle='--')\n",
        "ax2.get_yaxis().set_minor_formatter(matplotlib.ticker.ScalarFormatter())\n",
        "ax2.get_yaxis().set_major_formatter(matplotlib.ticker.ScalarFormatter())\n",
        "lgd = plt.legend(['Test_Error (Bayes By Backprop)', 'Test_Error (Vanilla SGD)'], markerscale=marker, prop={'size': textsize, 'weight': 'normal'})\n",
        "ax = plt.gca()\n",
        "for item in ([ax.title, ax.xaxis.label, ax.yaxis.label] +\n",
        "    ax.get_xticklabels() + ax.get_yticklabels()):\n",
        "    item.set_fontsize(textsize)\n",
        "    item.set_weight('normal')\n",
        "plt.savefig(results_dir + '/err.png',  bbox_extra_artists=(lgd,), box_inches='tight')"
      ],
      "execution_count": 0,
      "outputs": [
        {
          "output_type": "display_data",
          "data": {
            "image/png": "[encoded data removed]",
            "text/plain": [
              "<Figure size 720x720 with 1 Axes>"
            ]
          },
          "metadata": {
            "tags": []
          }
        }
      ]
    },
    {
      "cell_type": "code",
      "metadata": {
        "id": "F62IIl8I8JCX",
        "colab_type": "code",
        "outputId": "2ad97908-0720-40d9-b374-b9b725bd1e54",
        "colab": {
          "base_uri": "https://localhost:8080/",
          "height": 1000
        }
      },
      "source": [
        "cprint('c', '\\nRESULTS:')\n",
        "nb_parameters = net.get_nb_parameters()\n",
        "best_cost_dev = np.min(cost_dev)\n",
        "best_cost_train = np.min(pred_cost_train)\n",
        "err_dev_min = err_dev[::nb_its_dev].min()\n",
        "\n",
        "print('  cost_dev: %f (cost_train %f)' % (best_cost_dev, best_cost_train))\n",
        "print('  err_dev: %f' % (err_dev_min))\n",
        "print('  nb_parameters: %d (%s)' % (nb_parameters, humansize(nb_parameters)))\n",
        "print('  time_per_it: %fs\\n' % (runtime_per_it))\n",
        "\n",
        "\n",
        "\n",
        "## Save results for plots\n",
        "# np.save('results/test_predictions.npy', test_predictions)\n",
        "np.save(results_dir + '/cost_train.npy', kl_cost_train)\n",
        "np.save(results_dir + '/cost_train.npy', pred_cost_train)\n",
        "np.save(results_dir + '/cost_dev.npy', cost_dev)\n",
        "np.save(results_dir + '/err_train.npy', err_train)\n",
        "np.save(results_dir + '/err_dev.npy', err_dev)\n",
        "\n",
        "## ---------------------------------------------------------------------------------------------------------------------\n",
        "# fig cost vs its\n",
        "\n",
        "textsize = 15\n",
        "marker=5\n",
        "\n",
        "plt.figure(dpi=100)\n",
        "fig, ax1 = plt.subplots()\n",
        "ax1.plot(pred_cost_train, 'r--')\n",
        "ax1.plot(range(0, nb_epochs, nb_its_dev), cost_dev[::nb_its_dev], 'b-')\n",
        "ax1.set_ylabel('Cross Entropy')\n",
        "plt.xlabel('epoch')\n",
        "plt.grid(b=True, which='major', color='k', linestyle='-')\n",
        "plt.grid(b=True, which='minor', color='k', linestyle='--')\n",
        "lgd = plt.legend(['test error', 'train error'], markerscale=marker, prop={'size': textsize, 'weight': 'normal'})\n",
        "ax = plt.gca()\n",
        "plt.title('classification costs')\n",
        "for item in ([ax.title, ax.xaxis.label, ax.yaxis.label] +\n",
        "    ax.get_xticklabels() + ax.get_yticklabels()):\n",
        "    item.set_fontsize(textsize)\n",
        "    item.set_weight('normal')\n",
        "plt.savefig(results_dir + '/cost.png', bbox_extra_artists=(lgd,), bbox_inches='tight')\n",
        "\n",
        "plt.figure()\n",
        "fig, ax1 = plt.subplots()\n",
        "ax1.plot(kl_cost_train, 'r')\n",
        "ax1.set_ylabel('nats?')\n",
        "plt.xlabel('epoch')\n",
        "plt.grid(b=True, which='major', color='k', linestyle='-')\n",
        "plt.grid(b=True, which='minor', color='k', linestyle='--')\n",
        "ax = plt.gca()\n",
        "plt.title('DKL (per sample)')\n",
        "for item in ([ax.title, ax.xaxis.label, ax.yaxis.label] +\n",
        "    ax.get_xticklabels() + ax.get_yticklabels()):\n",
        "    item.set_fontsize(textsize)\n",
        "    item.set_weight('normal')\n",
        "\n",
        "\n",
        "plt.figure(dpi=100)\n",
        "fig2, ax2 = plt.subplots()\n",
        "ax2.set_ylabel('% error')\n",
        "ax2.semilogy(range(0, nb_epochs, nb_its_dev), 100 * err_dev[::nb_its_dev], 'b-')\n",
        "ax2.semilogy(100 * err_train, 'r--')\n",
        "plt.xlabel('epoch')\n",
        "plt.grid(b=True, which='major', color='k', linestyle='-')\n",
        "plt.grid(b=True, which='minor', color='k', linestyle='--')\n",
        "ax2.get_yaxis().set_minor_formatter(matplotlib.ticker.ScalarFormatter())\n",
        "ax2.get_yaxis().set_major_formatter(matplotlib.ticker.ScalarFormatter())\n",
        "lgd = plt.legend(['test error', 'train error'], markerscale=marker, prop={'size': textsize, 'weight': 'normal'})\n",
        "ax = plt.gca()\n",
        "for item in ([ax.title, ax.xaxis.label, ax.yaxis.label] +\n",
        "    ax.get_xticklabels() + ax.get_yticklabels()):\n",
        "    item.set_fontsize(textsize)\n",
        "    item.set_weight('normal')\n",
        "plt.savefig(results_dir + '/err.png',  bbox_extra_artists=(lgd,), box_inches='tight')\n"
      ],
      "execution_count": 0,
      "outputs": [
        {
          "output_type": "stream",
          "text": [
            "\u001b[36m\n",
            "RESULTS:\u001b[0m\n",
            "  cost_dev: 0.068071 (cost_train 0.038630)\n",
            "  err_dev: 0.016300\n",
            "  nb_parameters: 956820 (934.39KB)\n",
            "  time_per_it: 39.844658s\n",
            "\n"
          ],
          "name": "stdout"
        },
        {
          "output_type": "stream",
          "text": [
            "/usr/local/lib/python3.6/dist-packages/ipykernel_launcher.py:7: DeprecationWarning: Calling np.sum(generator) is deprecated, and in the future will give a different result. Use np.sum(np.fromiter(generator)) or the python sum builtin instead.\n",
            "  import sys\n"
          ],
          "name": "stderr"
        },
        {
          "output_type": "display_data",
          "data": {
            "text/plain": [
              "<Figure size 600x400 with 0 Axes>"
            ]
          },
          "metadata": {
            "tags": []
          }
        },
        {
          "output_type": "display_data",
          "data": {
            "image/png": "[encoded data removed]",
            "text/plain": [
              "<Figure size 432x288 with 1 Axes>"
            ]
          },
          "metadata": {
            "tags": []
          }
        },
        {
          "output_type": "display_data",
          "data": {
            "text/plain": [
              "<Figure size 432x288 with 0 Axes>"
            ]
          },
          "metadata": {
            "tags": []
          }
        },
        {
          "output_type": "display_data",
          "data": {
            "image/png": "[encoded data removed]",
            "text/plain": [
              "<Figure size 432x288 with 1 Axes>"
            ]
          },
          "metadata": {
            "tags": []
          }
        },
        {
          "output_type": "display_data",
          "data": {
            "text/plain": [
              "<Figure size 600x400 with 0 Axes>"
            ]
          },
          "metadata": {
            "tags": []
          }
        },
        {
          "output_type": "display_data",
          "data": {
            "image/png": "[encoded data removed]",
            "text/plain": [
              "<Figure size 432x288 with 1 Axes>"
            ]
          },
          "metadata": {
            "tags": []
          }
        }
      ]
    },
    {
      "cell_type": "code",
      "metadata": {
        "id": "gkT9cfkL8S5g",
        "colab_type": "code",
        "outputId": "0a0561da-4644-4962-87c1-5fac059eede9",
        "colab": {
          "base_uri": "https://localhost:8080/",
          "height": 34
        }
      },
      "source": [
        "nb_its_dev"
      ],
      "execution_count": 0,
      "outputs": [
        {
          "output_type": "execute_result",
          "data": {
            "text/plain": [
              "1"
            ]
          },
          "metadata": {
            "tags": []
          },
          "execution_count": 15
        }
      ]
    },
    {
      "cell_type": "code",
      "metadata": {
        "id": "SFCfl8oeupW8",
        "colab_type": "code",
        "outputId": "d1c7de5f-b33c-456d-ad41-733345c36d50",
        "colab": {
          "base_uri": "https://localhost:8080/",
          "height": 238
        }
      },
      "source": [
        "err_dev[::nb_its_dev]"
      ],
      "execution_count": 0,
      "outputs": [
        {
          "output_type": "execute_result",
          "data": {
            "text/plain": [
              "array([0.0749, 0.056 , 0.0474, 0.0401, 0.0393, 0.0372, 0.0357, 0.0306,\n",
              "       0.0306, 0.0288, 0.0279, 0.0273, 0.026 , 0.0262, 0.0267, 0.0254,\n",
              "       0.0243, 0.0245, 0.0242, 0.0234, 0.0225, 0.0229, 0.0233, 0.0227,\n",
              "       0.0216, 0.0227, 0.0225, 0.0222, 0.0217, 0.0206, 0.0209, 0.0217,\n",
              "       0.0211, 0.0206, 0.02  , 0.02  , 0.0201, 0.0195, 0.0205, 0.0201,\n",
              "       0.0205, 0.0193, 0.019 , 0.0186, 0.0188, 0.0195, 0.0181, 0.0191,\n",
              "       0.0191, 0.0178, 0.0184, 0.0182, 0.0184, 0.0183, 0.019 , 0.0184,\n",
              "       0.0184, 0.0191, 0.0186, 0.0178, 0.0187, 0.0188, 0.0177, 0.0185,\n",
              "       0.018 , 0.018 , 0.0179, 0.0174, 0.018 , 0.0173, 0.0176, 0.0166,\n",
              "       0.0174, 0.0177, 0.017 , 0.0181, 0.0175, 0.0174, 0.0175, 0.0173,\n",
              "       0.0179, 0.0176, 0.018 , 0.0166, 0.0171, 0.0175, 0.0173, 0.018 ,\n",
              "       0.0171, 0.0178, 0.0163, 0.0166, 0.0168, 0.0163, 0.0171, 0.0172,\n",
              "       0.0175, 0.0174, 0.0177, 0.0178])"
            ]
          },
          "metadata": {
            "tags": []
          },
          "execution_count": 16
        }
      ]
    },
    {
      "cell_type": "code",
      "metadata": {
        "id": "K0Tnv8aLc07l",
        "colab_type": "code",
        "outputId": "839c09c1-7cce-46e7-89f0-e4241673392d",
        "colab": {
          "base_uri": "https://localhost:8080/",
          "height": 180
        }
      },
      "source": [
        "err_dev[::nb_its_dev]\n",
        "baseline_history.history['val_loss']"
      ],
      "execution_count": 0,
      "outputs": [
        {
          "output_type": "error",
          "ename": "NameError",
          "evalue": "ignored",
          "traceback": [
            "\u001b[0;31m---------------------------------------------------------------------------\u001b[0m",
            "\u001b[0;31mNameError\u001b[0m                                 Traceback (most recent call last)",
            "\u001b[0;32m<ipython-input-27-9d0f526fcf6c>\u001b[0m in \u001b[0;36m<module>\u001b[0;34m()\u001b[0m\n\u001b[1;32m      1\u001b[0m \u001b[0merr_dev\u001b[0m\u001b[0;34m[\u001b[0m\u001b[0;34m:\u001b[0m\u001b[0;34m:\u001b[0m\u001b[0mnb_its_dev\u001b[0m\u001b[0;34m]\u001b[0m\u001b[0;34m\u001b[0m\u001b[0;34m\u001b[0m\u001b[0m\n\u001b[0;32m----> 2\u001b[0;31m \u001b[0mbaseline_history\u001b[0m\u001b[0;34m.\u001b[0m\u001b[0mhistory\u001b[0m\u001b[0;34m[\u001b[0m\u001b[0;34m'val_loss'\u001b[0m\u001b[0;34m]\u001b[0m\u001b[0;34m\u001b[0m\u001b[0;34m\u001b[0m\u001b[0m\n\u001b[0m",
            "\u001b[0;31mNameError\u001b[0m: name 'baseline_history' is not defined"
          ]
        }
      ]
    },
    {
      "cell_type": "code",
      "metadata": {
        "id": "5oVsXyAnAax9",
        "colab_type": "code",
        "colab": {}
      },
      "source": [
        "models_dir = 'models_weight_uncertainty_MC_MNIST_gaussian'\n",
        "results_dir = 'results_weight_uncertainty_MC_MNIST_gaussian'\n",
        "\n",
        "mkdir(models_dir)\n",
        "mkdir(results_dir)"
      ],
      "execution_count": 0,
      "outputs": []
    },
    {
      "cell_type": "code",
      "metadata": {
        "id": "uM1q3hVjPHL6",
        "colab_type": "code",
        "outputId": "31c7e8a6-ea7b-49c3-85bd-876d61831ecd",
        "colab": {
          "base_uri": "https://localhost:8080/",
          "height": 423
        }
      },
      "source": [
        "name = 'Bayes_By_Backprop'\n",
        "Nsamples = 10\n",
        "weight_vector = net.get_weight_samples(Nsamples=Nsamples)\n",
        "np.save(results_dir+'/weight_samples_'+name+'.npy', weight_vector)\n",
        "\n",
        "print(weight_vector.shape)\n",
        "\n",
        "fig = plt.figure(dpi=100)\n",
        "ax = fig.add_subplot(111)\n",
        "symlim = 0.7\n",
        "\n",
        "lim_idxs = np.where(np.logical_and(weight_vector>=symlim, weight_vector<=symlim))\n",
        "\n",
        "sns.distplot(weight_vector, 500, norm_hist=False, label=name, ax=ax)\n",
        "ax.set_xlim((-symlim, symlim))\n",
        "# ax.hist(weight_vector, bins=70, density=True);\n",
        "\n",
        "ax.set_ylabel('Density')\n",
        "ax.legend()\n",
        "plt.title('Total parameters: %d, samples: %d' % (len(weight_vector)/Nsamples, Nsamples))"
      ],
      "execution_count": 0,
      "outputs": [
        {
          "output_type": "stream",
          "text": [
            "(4776000,)\n"
          ],
          "name": "stdout"
        },
        {
          "output_type": "execute_result",
          "data": {
            "text/plain": [
              "Text(0.5, 1.0, 'Total parameters: 477600, samples: 10')"
            ]
          },
          "metadata": {
            "tags": []
          },
          "execution_count": 21
        },
        {
          "output_type": "display_data",
          "data": {
            "image/png": "[encoded data removed]",
            "text/plain": [
              "<Figure size 600x400 with 1 Axes>"
            ]
          },
          "metadata": {
            "tags": []
          }
        }
      ]
    },
    {
      "cell_type": "code",
      "metadata": {
        "id": "EWQhxi1LPrXf",
        "colab_type": "code",
        "outputId": "8b4e1d4b-84ff-4eff-a7a2-dc018dde2fc9",
        "colab": {
          "base_uri": "https://localhost:8080/",
          "height": 231
        }
      },
      "source": [
        "last_state_dict = copy.deepcopy(net.model.state_dict())\n",
        "savemodel_its = [20, 50, 80, 90]\n",
        "Nsamples = 10\n",
        "\n",
        "for idx, iteration in enumerate(savemodel_its):\n",
        "    \n",
        "    net.model.load_state_dict(save_dicts[idx])\n",
        "    weight_vector = net.get_weight_samples(Nsamples=Nsamples)\n",
        "    fig = plt.figure(dpi=120)\n",
        "    ax = fig.add_subplot(111)\n",
        "    symlim = 1\n",
        "    lim_idxs = np.where(np.logical_and(weight_vector>=symlim, weight_vector<=symlim))\n",
        "    sns.distplot(weight_vector, 350, norm_hist=False, label='it %d' % (iteration), ax=ax)\n",
        "    ax.legend()\n",
        "\n",
        "    ax.set_xlim((-symlim, symlim))\n",
        "\n",
        "\n",
        "net.model.load_state_dict(last_state_dict)"
      ],
      "execution_count": 0,
      "outputs": [
        {
          "output_type": "error",
          "ename": "IndexError",
          "evalue": "ignored",
          "traceback": [
            "\u001b[0;31m---------------------------------------------------------------------------\u001b[0m",
            "\u001b[0;31mIndexError\u001b[0m                                Traceback (most recent call last)",
            "\u001b[0;32m<ipython-input-25-39544fdf255d>\u001b[0m in \u001b[0;36m<module>\u001b[0;34m()\u001b[0m\n\u001b[1;32m      5\u001b[0m \u001b[0;32mfor\u001b[0m \u001b[0midx\u001b[0m\u001b[0;34m,\u001b[0m \u001b[0miteration\u001b[0m \u001b[0;32min\u001b[0m \u001b[0menumerate\u001b[0m\u001b[0;34m(\u001b[0m\u001b[0msavemodel_its\u001b[0m\u001b[0;34m)\u001b[0m\u001b[0;34m:\u001b[0m\u001b[0;34m\u001b[0m\u001b[0;34m\u001b[0m\u001b[0m\n\u001b[1;32m      6\u001b[0m \u001b[0;34m\u001b[0m\u001b[0m\n\u001b[0;32m----> 7\u001b[0;31m     \u001b[0mnet\u001b[0m\u001b[0;34m.\u001b[0m\u001b[0mmodel\u001b[0m\u001b[0;34m.\u001b[0m\u001b[0mload_state_dict\u001b[0m\u001b[0;34m(\u001b[0m\u001b[0msave_dicts\u001b[0m\u001b[0;34m[\u001b[0m\u001b[0midx\u001b[0m\u001b[0;34m]\u001b[0m\u001b[0;34m)\u001b[0m\u001b[0;34m\u001b[0m\u001b[0;34m\u001b[0m\u001b[0m\n\u001b[0m\u001b[1;32m      8\u001b[0m     \u001b[0mweight_vector\u001b[0m \u001b[0;34m=\u001b[0m \u001b[0mnet\u001b[0m\u001b[0;34m.\u001b[0m\u001b[0mget_weight_samples\u001b[0m\u001b[0;34m(\u001b[0m\u001b[0mNsamples\u001b[0m\u001b[0;34m=\u001b[0m\u001b[0mNsamples\u001b[0m\u001b[0;34m)\u001b[0m\u001b[0;34m\u001b[0m\u001b[0;34m\u001b[0m\u001b[0m\n\u001b[1;32m      9\u001b[0m     \u001b[0mfig\u001b[0m \u001b[0;34m=\u001b[0m \u001b[0mplt\u001b[0m\u001b[0;34m.\u001b[0m\u001b[0mfigure\u001b[0m\u001b[0;34m(\u001b[0m\u001b[0mdpi\u001b[0m\u001b[0;34m=\u001b[0m\u001b[0;36m120\u001b[0m\u001b[0;34m)\u001b[0m\u001b[0;34m\u001b[0m\u001b[0;34m\u001b[0m\u001b[0m\n",
            "\u001b[0;31mIndexError\u001b[0m: list index out of range"
          ]
        }
      ]
    },
    {
      "cell_type": "code",
      "metadata": {
        "id": "Yu9VDoe1Pwfo",
        "colab_type": "code",
        "outputId": "9f52da62-9ddf-4231-c424-8528f0e54c6c",
        "colab": {
          "base_uri": "https://localhost:8080/",
          "height": 163
        }
      },
      "source": [
        "net.model.load_state_dict(save_dicts[2])"
      ],
      "execution_count": 0,
      "outputs": [
        {
          "output_type": "error",
          "ename": "IndexError",
          "evalue": "ignored",
          "traceback": [
            "\u001b[0;31m---------------------------------------------------------------------------\u001b[0m",
            "\u001b[0;31mIndexError\u001b[0m                                Traceback (most recent call last)",
            "\u001b[0;32m<ipython-input-24-393e6bb374a7>\u001b[0m in \u001b[0;36m<module>\u001b[0;34m()\u001b[0m\n\u001b[0;32m----> 1\u001b[0;31m \u001b[0mnet\u001b[0m\u001b[0;34m.\u001b[0m\u001b[0mmodel\u001b[0m\u001b[0;34m.\u001b[0m\u001b[0mload_state_dict\u001b[0m\u001b[0;34m(\u001b[0m\u001b[0msave_dicts\u001b[0m\u001b[0;34m[\u001b[0m\u001b[0;36m2\u001b[0m\u001b[0;34m]\u001b[0m\u001b[0;34m)\u001b[0m\u001b[0;34m\u001b[0m\u001b[0;34m\u001b[0m\u001b[0m\n\u001b[0m",
            "\u001b[0;31mIndexError\u001b[0m: list index out of range"
          ]
        }
      ]
    },
    {
      "cell_type": "code",
      "metadata": {
        "id": "vcKLOK-xfKZN",
        "colab_type": "code",
        "outputId": "01013a18-5aa9-4b5d-a115-cd78cad74439",
        "colab": {
          "base_uri": "https://localhost:8080/",
          "height": 900
        }
      },
      "source": [
        "name1 = 'Bayes_By_Backprop'\n",
        "name2 = 'Vanilla SGD'\n",
        "Nsamples = 10\n",
        "weight_vector = net.get_weight_samples(Nsamples=Nsamples)\n",
        "np.save(results_dir+'/weight_samples_'+name+'.npy', weight_vector)\n",
        "\n",
        "print(weight_vector.shape)\n",
        "\n",
        "fig = plt.figure(dpi=100)\n",
        "ax = fig.add_subplot(111)\n",
        "symlim = 0.7\n",
        "\n",
        "lim_idxs = np.where(np.logical_and(weight_vector>=symlim, weight_vector<=symlim))\n",
        "\n",
        "sns.distplot(weight_vector, 500, norm_hist=False, label=name1, ax=ax)\n",
        "sns.distplot(Weights, 500, norm_hist=False, label=name2, ax=ax)\n",
        "ax.set_xlim((-symlim, symlim))\n",
        "# ax.hist(weight_vector, bins=70, density=True);\n",
        "\n",
        "ax.set_ylabel('Density')\n",
        "ax.set_xlabel('Values of Weights in Neural Network')\n",
        "ax.legend()\n",
        "plt.title('Total parameters: %d, samples: %d' % (len(weight_vector)/Nsamples, Nsamples))"
      ],
      "execution_count": 0,
      "outputs": [
        {
          "output_type": "stream",
          "text": [
            "(4776000,)\n"
          ],
          "name": "stdout"
        },
        {
          "output_type": "execute_result",
          "data": {
            "text/plain": [
              "Text(0.5, 1.0, 'Total parameters: 477600, samples: 10')"
            ]
          },
          "metadata": {
            "tags": []
          },
          "execution_count": 114
        },
        {
          "output_type": "display_data",
          "data": {
            "image/png": "[encoded data removed]",
            "text/plain": [
              "<Figure size 1000x1000 with 1 Axes>"
            ]
          },
          "metadata": {
            "tags": []
          }
        }
      ]
    },
    {
      "cell_type": "code",
      "metadata": {
        "id": "SVYFJPJBlt8V",
        "colab_type": "code",
        "colab": {}
      },
      "source": [
        ""
      ],
      "execution_count": 0,
      "outputs": []
    },
    {
      "cell_type": "code",
      "metadata": {
        "id": "cigV27U3luom",
        "colab_type": "code",
        "colab": {}
      },
      "source": [
        ""
      ],
      "execution_count": 0,
      "outputs": []
    },
    {
      "cell_type": "code",
      "metadata": {
        "id": "CARJ9k4Ffbhj",
        "colab_type": "code",
        "outputId": "029d08f8-ebda-47ca-fd29-17210bfd6cc3",
        "colab": {
          "base_uri": "https://localhost:8080/",
          "height": 34
        }
      },
      "source": [
        "len(weight_vector)"
      ],
      "execution_count": 0,
      "outputs": [
        {
          "output_type": "execute_result",
          "data": {
            "text/plain": [
              "4776000"
            ]
          },
          "metadata": {
            "tags": []
          },
          "execution_count": 52
        }
      ]
    },
    {
      "cell_type": "code",
      "metadata": {
        "id": "_lxmYGoFfs67",
        "colab_type": "code",
        "outputId": "9f2d56a2-4f16-41a0-8238-e09c77443ffa",
        "colab": {
          "base_uri": "https://localhost:8080/",
          "height": 34
        }
      },
      "source": [
        "weigh=baseline_model.layers[1].get_weights()[0][398]\n",
        "len(weigh)\n",
        "weigh[0]"
      ],
      "execution_count": 0,
      "outputs": [
        {
          "output_type": "execute_result",
          "data": {
            "text/plain": [
              "0.009048584"
            ]
          },
          "metadata": {
            "tags": []
          },
          "execution_count": 65
        }
      ]
    },
    {
      "cell_type": "code",
      "metadata": {
        "id": "EOKaxejAgl5f",
        "colab_type": "code",
        "outputId": "1c263b8f-723b-4158-9794-bfabad56db86",
        "colab": {
          "base_uri": "https://localhost:8080/",
          "height": 34
        }
      },
      "source": [
        "new1=[]\n",
        "for i in range(0,784):\n",
        "  mylist = baseline_model.layers[0].get_weights()[0][i]\n",
        "  new1=np.append(new1, mylist)\n",
        "len(new1)"
      ],
      "execution_count": 0,
      "outputs": [
        {
          "output_type": "execute_result",
          "data": {
            "text/plain": [
              "313600"
            ]
          },
          "metadata": {
            "tags": []
          },
          "execution_count": 102
        }
      ]
    },
    {
      "cell_type": "code",
      "metadata": {
        "id": "5EO9YD1LjCH2",
        "colab_type": "code",
        "outputId": "9548e244-5efe-406b-ca46-b293988a6a87",
        "colab": {
          "base_uri": "https://localhost:8080/",
          "height": 34
        }
      },
      "source": [
        "new2=[]\n",
        "for i in range(0,399):\n",
        "  mylist = baseline_model.layers[1].get_weights()[0][i]\n",
        "  new2=np.append(new2, mylist)\n",
        "len(new2)"
      ],
      "execution_count": 0,
      "outputs": [
        {
          "output_type": "execute_result",
          "data": {
            "text/plain": [
              "159600"
            ]
          },
          "metadata": {
            "tags": []
          },
          "execution_count": 103
        }
      ]
    },
    {
      "cell_type": "code",
      "metadata": {
        "id": "-d7Zr-4IiqJG",
        "colab_type": "code",
        "outputId": "20ccbd74-d079-4fcd-f65b-39bff08fb54e",
        "colab": {
          "base_uri": "https://localhost:8080/",
          "height": 34
        }
      },
      "source": [
        "Weights = np.append(new1,new2)\n",
        "len(Weights)"
      ],
      "execution_count": 0,
      "outputs": [
        {
          "output_type": "execute_result",
          "data": {
            "text/plain": [
              "473200"
            ]
          },
          "metadata": {
            "tags": []
          },
          "execution_count": 104
        }
      ]
    },
    {
      "cell_type": "code",
      "metadata": {
        "id": "qFNPNh-yi2vu",
        "colab_type": "code",
        "outputId": "2a4e604b-b8cb-4e54-bae2-ed9e43f65e92",
        "colab": {
          "base_uri": "https://localhost:8080/",
          "height": 594
        }
      },
      "source": [
        "import numpy as np\n",
        "import matplotlib.mlab as mlab\n",
        "import matplotlib.pyplot as plt\n",
        "\n",
        "num_bins = 100\n",
        "n, bins, patches = plt.hist(Weights, num_bins, facecolor='blue', alpha=0.5)\n",
        "plt.show()"
      ],
      "execution_count": 0,
      "outputs": [
        {
          "output_type": "display_data",
          "data": {
            "image/png": "[encoded data removed]",
            "text/plain": [
              "<Figure size 720x720 with 1 Axes>"
            ]
          },
          "metadata": {
            "tags": []
          }
        }
      ]
    },
    {
      "cell_type": "code",
      "metadata": {
        "id": "20_g3-u2lNmc",
        "colab_type": "code",
        "outputId": "f9eeac74-bca6-4c9d-e465-bd97da4b2364",
        "colab": {
          "base_uri": "https://localhost:8080/",
          "height": 859
        }
      },
      "source": [
        "fig = plt.figure(dpi=100)\n",
        "ax = fig.add_subplot(111)\n",
        "symlim = 0.7\n",
        "\n",
        "lim_idxs = np.where(np.logical_and(Weights>=symlim, Weights<=symlim))\n",
        "\n",
        "sns.distplot(Weights, 500, norm_hist=False, label=name, ax=ax)\n",
        "ax.set_xlim((-symlim, symlim))\n",
        "# ax.hist(weight_vector, bins=70, density=True);\n",
        "\n",
        "ax.set_ylabel('Density')\n",
        "ax.legend()\n",
        "plt.title('Total parameters: %d, samples: %d' % (len(Weights)/Nsamples, Nsamples))"
      ],
      "execution_count": 0,
      "outputs": [
        {
          "output_type": "execute_result",
          "data": {
            "text/plain": [
              "Text(0.5, 1.0, 'Total parameters: 47320, samples: 10')"
            ]
          },
          "metadata": {
            "tags": []
          },
          "execution_count": 106
        },
        {
          "output_type": "display_data",
          "data": {
            "image/png": "[encoded data removed]",
            "text/plain": [
              "<Figure size 1000x1000 with 1 Axes>"
            ]
          },
          "metadata": {
            "tags": []
          }
        }
      ]
    },
    {
      "cell_type": "code",
      "metadata": {
        "id": "clef-LQTlv2N",
        "colab_type": "code",
        "outputId": "f50f966b-ca66-4d53-9fc3-463f06f501b3",
        "colab": {
          "base_uri": "https://localhost:8080/",
          "height": 696
        }
      },
      "source": [
        "import numpy as np\n",
        "import matplotlib.pyplot as plt\n",
        "\n",
        "#foo = np.random.normal(loc=1, size=100) # a normal distribution\n",
        "#bar = np.random.normal(loc=-1, size=10000) # a normal distribution\n",
        "\n",
        "_, bins, _ = plt.hist(weight_vector, bins=50, range=[-0.4, 0.4], normed=True)\n",
        "_ = plt.hist(Weights, bins=bins, alpha=0.5, normed=True)\n"
      ],
      "execution_count": 0,
      "outputs": [
        {
          "output_type": "stream",
          "text": [
            "/usr/local/lib/python3.6/dist-packages/ipykernel_launcher.py:7: MatplotlibDeprecationWarning: \n",
            "The 'normed' kwarg was deprecated in Matplotlib 2.1 and will be removed in 3.1. Use 'density' instead.\n",
            "  import sys\n",
            "/usr/local/lib/python3.6/dist-packages/ipykernel_launcher.py:8: MatplotlibDeprecationWarning: \n",
            "The 'normed' kwarg was deprecated in Matplotlib 2.1 and will be removed in 3.1. Use 'density' instead.\n",
            "  \n"
          ],
          "name": "stderr"
        },
        {
          "output_type": "display_data",
          "data": {
            "image/png": "[encoded data removed]",
            "text/plain": [
              "<Figure size 720x720 with 1 Axes>"
            ]
          },
          "metadata": {
            "tags": []
          }
        }
      ]
    },
    {
      "cell_type": "code",
      "metadata": {
        "id": "_eO5wuMzmdOp",
        "colab_type": "code",
        "outputId": "1d49a22b-6294-4444-8156-2fc7c481042c",
        "colab": {
          "base_uri": "https://localhost:8080/",
          "height": 793
        }
      },
      "source": [
        "import seaborn as sns\n",
        "sns.distplot( weight_vector , color=\"skyblue\", label=\"Sepal Length\")\n",
        "sns.distplot( Weights , color=\"red\", label=\"Sepal Width\")\n",
        "sns.plt.legend()\n",
        " "
      ],
      "execution_count": 0,
      "outputs": [
        {
          "output_type": "error",
          "ename": "AttributeError",
          "evalue": "ignored",
          "traceback": [
            "\u001b[0;31m---------------------------------------------------------------------------\u001b[0m",
            "\u001b[0;31mAttributeError\u001b[0m                            Traceback (most recent call last)",
            "\u001b[0;32m<ipython-input-111-49ec72fa49d5>\u001b[0m in \u001b[0;36m<module>\u001b[0;34m()\u001b[0m\n\u001b[1;32m      2\u001b[0m \u001b[0msns\u001b[0m\u001b[0;34m.\u001b[0m\u001b[0mdistplot\u001b[0m\u001b[0;34m(\u001b[0m \u001b[0mweight_vector\u001b[0m \u001b[0;34m,\u001b[0m \u001b[0mcolor\u001b[0m\u001b[0;34m=\u001b[0m\u001b[0;34m\"skyblue\"\u001b[0m\u001b[0;34m,\u001b[0m \u001b[0mlabel\u001b[0m\u001b[0;34m=\u001b[0m\u001b[0;34m\"Sepal Length\"\u001b[0m\u001b[0;34m)\u001b[0m\u001b[0;34m\u001b[0m\u001b[0;34m\u001b[0m\u001b[0m\n\u001b[1;32m      3\u001b[0m \u001b[0msns\u001b[0m\u001b[0;34m.\u001b[0m\u001b[0mdistplot\u001b[0m\u001b[0;34m(\u001b[0m \u001b[0mWeights\u001b[0m \u001b[0;34m,\u001b[0m \u001b[0mcolor\u001b[0m\u001b[0;34m=\u001b[0m\u001b[0;34m\"red\"\u001b[0m\u001b[0;34m,\u001b[0m \u001b[0mlabel\u001b[0m\u001b[0;34m=\u001b[0m\u001b[0;34m\"Sepal Width\"\u001b[0m\u001b[0;34m)\u001b[0m\u001b[0;34m\u001b[0m\u001b[0;34m\u001b[0m\u001b[0m\n\u001b[0;32m----> 4\u001b[0;31m \u001b[0msns\u001b[0m\u001b[0;34m.\u001b[0m\u001b[0mplt\u001b[0m\u001b[0;34m.\u001b[0m\u001b[0mlegend\u001b[0m\u001b[0;34m(\u001b[0m\u001b[0;34m)\u001b[0m\u001b[0;34m\u001b[0m\u001b[0;34m\u001b[0m\u001b[0m\n\u001b[0m\u001b[1;32m      5\u001b[0m \u001b[0;34m\u001b[0m\u001b[0m\n",
            "\u001b[0;31mAttributeError\u001b[0m: module 'seaborn' has no attribute 'plt'"
          ]
        },
        {
          "output_type": "display_data",
          "data": {
            "image/png": "[encoded data removed]",
            "text/plain": [
              "<Figure size 720x720 with 1 Axes>"
            ]
          },
          "metadata": {
            "tags": []
          }
        }
      ]
    }
  ]
}